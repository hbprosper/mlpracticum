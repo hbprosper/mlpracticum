{
 "cells": [
  {
   "cell_type": "markdown",
   "metadata": {
    "id": "40Yb47zJQglm"
   },
   "source": [
    "# 02 Regression with PyTorch \n",
    "## Introduction\n",
    "In this exercise, we fit a neural network model to 1D data.\n",
    "\n",
    "We shall use the model \n",
    "\n",
    "$$f(\\mathbf{x}, \\theta) = \\mbox{identity}(\\color{blue}{\\,b_1 + \\mathbf{w}_1} \\, \\mbox{relu}(\\color{red}{\\mathbf{b}_0 + \\mathbf{w}_0} \\, \\mathbf{x}) \\,),$$\n",
    "\n",
    "where $\\mathbf{b}$ and $\\mathbf{w}$ (the biases and weights) are the parameters $\\theta$ of the model and $\\mbox{relu}(x)$ is a function applied to every element $x_i$ of its tensor argument (i.e., applied element-wise) defined by\n",
    "\n",
    "\\begin{align*}\n",
    "\\mbox{relu}(x) & = \\begin{cases}\n",
    "    x, & \\text{if } x \\gt 0\\\\\n",
    "    0              & \\text{otherwise},\n",
    "\\end{cases}\n",
    "\\end{align*}\n",
    "\n",
    "and $\\mbox{identity}(x) = x$."
   ]
  },
  {
   "cell_type": "code",
   "execution_count": 1,
   "metadata": {
    "id": "FA1Y5VCv20XZ"
   },
   "outputs": [],
   "source": [
    "import os, sys\n",
    "\n",
    "# the standard module for tabular data\n",
    "import pandas as pd\n",
    "\n",
    "# the standard module for array manipulation\n",
    "import numpy as np\n",
    "\n",
    "# the standard modules for high-quality plots\n",
    "import matplotlib as mp\n",
    "import matplotlib.pyplot as plt\n",
    "\n",
    "#  a function to save results\n",
    "import joblib as jb\n",
    "\n",
    "# pytorch\n",
    "import torch\n",
    "\n",
    "# pytorch\n",
    "import torch.nn as nn\n",
    "\n",
    "#  split data into a training set and a test set\n",
    "from sklearn.model_selection import train_test_split\n",
    "\n",
    "# to reload modules\n",
    "import importlib\n",
    "\n",
    "%matplotlib inline"
   ]
  },
  {
   "cell_type": "code",
   "execution_count": 2,
   "metadata": {},
   "outputs": [
    {
     "data": {
      "text/plain": [
       "'3.3.1'"
      ]
     },
     "execution_count": 2,
     "metadata": {},
     "output_type": "execute_result"
    }
   ],
   "source": [
    "mp.__version__"
   ]
  },
  {
   "cell_type": "code",
   "execution_count": 3,
   "metadata": {},
   "outputs": [],
   "source": [
    "# update fonts\n",
    "FONTSIZE = 18\n",
    "font = {'family' : 'serif',\n",
    "        'weight' : 'normal',\n",
    "        'size'   : FONTSIZE}\n",
    "mp.rc('font', **font)\n",
    "\n",
    "# set a seed to ensure reproducibility\n",
    "seed = 128\n",
    "rnd  = np.random.RandomState(seed)"
   ]
  },
  {
   "cell_type": "markdown",
   "metadata": {},
   "source": [
    "### Load data"
   ]
  },
  {
   "cell_type": "code",
   "execution_count": 4,
   "metadata": {},
   "outputs": [
    {
     "data": {
      "text/html": [
       "<div>\n",
       "<style scoped>\n",
       "    .dataframe tbody tr th:only-of-type {\n",
       "        vertical-align: middle;\n",
       "    }\n",
       "\n",
       "    .dataframe tbody tr th {\n",
       "        vertical-align: top;\n",
       "    }\n",
       "\n",
       "    .dataframe thead th {\n",
       "        text-align: right;\n",
       "    }\n",
       "</style>\n",
       "<table border=\"1\" class=\"dataframe\">\n",
       "  <thead>\n",
       "    <tr style=\"text-align: right;\">\n",
       "      <th></th>\n",
       "      <th>target</th>\n",
       "      <th>x</th>\n",
       "    </tr>\n",
       "  </thead>\n",
       "  <tbody>\n",
       "    <tr>\n",
       "      <th>0</th>\n",
       "      <td>-1.253488</td>\n",
       "      <td>0.494663</td>\n",
       "    </tr>\n",
       "    <tr>\n",
       "      <th>1</th>\n",
       "      <td>0.206673</td>\n",
       "      <td>0.234076</td>\n",
       "    </tr>\n",
       "    <tr>\n",
       "      <th>2</th>\n",
       "      <td>-0.289740</td>\n",
       "      <td>-0.420953</td>\n",
       "    </tr>\n",
       "    <tr>\n",
       "      <th>3</th>\n",
       "      <td>1.162558</td>\n",
       "      <td>0.208930</td>\n",
       "    </tr>\n",
       "    <tr>\n",
       "      <th>4</th>\n",
       "      <td>0.622584</td>\n",
       "      <td>0.021879</td>\n",
       "    </tr>\n",
       "    <tr>\n",
       "      <th>5</th>\n",
       "      <td>0.095109</td>\n",
       "      <td>-0.931289</td>\n",
       "    </tr>\n",
       "    <tr>\n",
       "      <th>6</th>\n",
       "      <td>0.688631</td>\n",
       "      <td>0.027320</td>\n",
       "    </tr>\n",
       "    <tr>\n",
       "      <th>7</th>\n",
       "      <td>2.214973</td>\n",
       "      <td>0.102460</td>\n",
       "    </tr>\n",
       "    <tr>\n",
       "      <th>8</th>\n",
       "      <td>-1.287308</td>\n",
       "      <td>0.497052</td>\n",
       "    </tr>\n",
       "    <tr>\n",
       "      <th>9</th>\n",
       "      <td>-2.858269</td>\n",
       "      <td>-0.645910</td>\n",
       "    </tr>\n",
       "  </tbody>\n",
       "</table>\n",
       "</div>"
      ],
      "text/plain": [
       "     target         x\n",
       "0 -1.253488  0.494663\n",
       "1  0.206673  0.234076\n",
       "2 -0.289740 -0.420953\n",
       "3  1.162558  0.208930\n",
       "4  0.622584  0.021879\n",
       "5  0.095109 -0.931289\n",
       "6  0.688631  0.027320\n",
       "7  2.214973  0.102460\n",
       "8 -1.287308  0.497052\n",
       "9 -2.858269 -0.645910"
      ]
     },
     "execution_count": 4,
     "metadata": {},
     "output_type": "execute_result"
    }
   ],
   "source": [
    "data = jb.load('data_02.db')\n",
    "data[:10]"
   ]
  },
  {
   "cell_type": "markdown",
   "metadata": {},
   "source": [
    "### Train, validation, and test sets\n",
    "There is some confusion in terminology regarding validation and test samples (or sets). We shall adhere to the defintions given here https://machinelearningmastery.com/difference-test-validation-datasets/):\n",
    "   \n",
    "  * __Training Dataset__: The sample of data used to fit the model.\n",
    "  * __Validation Dataset__: The sample of data used to decide 1) whether the fit is reasonable (e.g., the model has not been overfitted), 2) decide which of several models is the best and 3) tune model hyperparameters.\n",
    "  * __Test Dataset__: The sample of data used to provide an unbiased evaluation of a final model fit on the training dataset.\n",
    "\n",
    "The validation set will be some small fraction of the training set and will be used to decide when to stop the training."
   ]
  },
  {
   "cell_type": "code",
   "execution_count": 5,
   "metadata": {},
   "outputs": [
    {
     "name": "stdout",
     "output_type": "stream",
     "text": [
      "train set size:         35000\n",
      "validation set size:     5000\n",
      "test set size:          10000\n"
     ]
    }
   ],
   "source": [
    "# Fraction of the data assigned as test data\n",
    "fraction = 0.20\n",
    "# Split data into a part for training and a part for testing\n",
    "train_data, test_data = train_test_split(data, test_size=fraction)\n",
    "\n",
    "# Split the training data into a part for training (fitting) and\n",
    "# a part for validating the training.\n",
    "fraction = 0.125\n",
    "train_data, valid_data = train_test_split(train_data, test_size=fraction)\n",
    "\n",
    "print('train set size:        %6d' % train_data.shape[0])\n",
    "print('validation set size:   %6d' % valid_data.shape[0])\n",
    "print('test set size:         %6d' % test_data.shape[0])"
   ]
  },
  {
   "cell_type": "markdown",
   "metadata": {},
   "source": [
    "Split data into targets $t$ and inputs $\\mathbf{x}$"
   ]
  },
  {
   "cell_type": "code",
   "execution_count": 6,
   "metadata": {},
   "outputs": [],
   "source": [
    "def split_t_x(df):\n",
    "    # change from pandas dataframe format to a numpy \n",
    "    # array of the specified types\n",
    "    t = np.array(df['target'])\n",
    "    x = np.array(df['x'])\n",
    "    return (t, x)\n",
    "\n",
    "train_t, train_x = split_t_x(train_data)\n",
    "valid_t, valid_x = split_t_x(valid_data)\n",
    "test_t,  test_x  = split_t_x(test_data)"
   ]
  },
  {
   "cell_type": "markdown",
   "metadata": {},
   "source": [
    "### Return a (random) batch of data from the training set"
   ]
  },
  {
   "cell_type": "code",
   "execution_count": 7,
   "metadata": {},
   "outputs": [],
   "source": [
    "def get_batch(x, t, batch_size):\n",
    "    # the numpy function choice(length, number)\n",
    "    # selects at random \"batch_size\" integers from \n",
    "    # the range [0, length-1] corresponding to the\n",
    "    # row indices.\n",
    "    rows    = rnd.choice(len(x), batch_size)\n",
    "    batch_x = x[rows]\n",
    "    batch_t = t[rows]\n",
    "    return (batch_x, batch_t)"
   ]
  },
  {
   "cell_type": "markdown",
   "metadata": {},
   "source": [
    "### Empirical risk (that is, average loss)\n",
    "\n",
    "The empirical risk, which is the __objective function__ we shall minimize, is defined as\n",
    "\n",
    "\\begin{align}\n",
    "R_M(\\theta) & = \\frac{1}{M}\\sum_{m=1}^M L(t_m, f_m),\n",
    "\\end{align}\n",
    "\n",
    "where \n",
    "\n",
    "\\begin{align}\n",
    "    f_m & \\equiv f(\\mathbf{x}_m, \\theta),\\\\ \\\\ \\textrm{and} \\\\\n",
    "    L(t, f) &= (t - f)^2\n",
    "\\end{align}\n",
    "\n",
    "The empirical risk $R_M$ approximates the __risk__\n",
    "\n",
    "\\begin{align}\n",
    "R[f] & = \\int \\cdots \\int \\, p(t, \\mathbf{x}) \\, L(t, f(\\mathbf{x}, \\theta)) \\, dt \\, d\\mathbf{x},\n",
    "\\end{align}\n",
    "\n",
    "which is a __functional__ of the model $f$. The quantity $p(t, \\mathbf{x}) \\, dt\\, d\\mathbf{x}$ is the probability distribution from which the sample $\\{ (t_m, \\mathbf{x}_m), m = 1,\\cdots, M \\}$ is presumed to have been drawn. "
   ]
  },
  {
   "cell_type": "code",
   "execution_count": 8,
   "metadata": {},
   "outputs": [],
   "source": [
    "def average_loss(f, t):\n",
    "    # f and t must be of the same shape\n",
    "    return  torch.mean((f - t)**2)"
   ]
  },
  {
   "cell_type": "markdown",
   "metadata": {},
   "source": [
    "### Function to execute training loop\n",
    "\n",
    "Note, here we use $t$ and $y$ interchangeably to denote the targets"
   ]
  },
  {
   "cell_type": "code",
   "execution_count": 9,
   "metadata": {},
   "outputs": [],
   "source": [
    "def train(model, optimizer, avloss, getbatch,\n",
    "          train_x, train_t, \n",
    "          valid_x, valid_t,\n",
    "          batch_size, \n",
    "          n_iterations, step=10):\n",
    "    \n",
    "    xx   = []\n",
    "    yy_t = []\n",
    "    yy_v = []\n",
    "    n    = 5000\n",
    "    \n",
    "    # set mode to training so that training specific operations such \n",
    "    # as dropout are enabled.\n",
    "    model.train()\n",
    "    \n",
    "    print('Iteration vs average loss')\n",
    "    print(\"%10s\\t%10s\\t%10s\" % \\\n",
    "          ('iteration', 'train-set', 'valid-set'))\n",
    "    \n",
    "    for ii in range(n_iterations):\n",
    "\n",
    "        # Get a random sample (a batch) of images (as numpy arrays)\n",
    "        batch_x, batch_t = getbatch(train_x, train_t, batch_size)\n",
    "        \n",
    "        # Convert the numpy arrays batch_x and batch_t, to tensor \n",
    "        # types. The PyTorch tensor type is the magic that permits \n",
    "        # automatic differentiation with respect to parameters. \n",
    "        # However, since we do not need to take the derivatives\n",
    "        # with respect to x and t, we disable this feature\n",
    "        with torch.no_grad(): # no need to compute gradients wrt. x and y\n",
    "            x = torch.from_numpy(batch_x).float()\n",
    "            t = torch.from_numpy(batch_t).float()      \n",
    "\n",
    "        # compute the output of the model for the batch of data x\n",
    "        # Note: outputs is \n",
    "        #   of shape (-1, 1), but the tensor targets, t, is\n",
    "        #   of shape (-1,)\n",
    "        # In order for the tensor operations with outputs and t\n",
    "        # to work correctly, it is necessary that they have the\n",
    "        # same shape. we can do this with the reshape method.\n",
    "        outputs = model(x.view(-1,1)).reshape(t.shape)\n",
    "\n",
    "        # compute a noisy approximation to the average loss\n",
    "        empirical_risk = avloss(outputs, t)\n",
    "        \n",
    "        # use automatic differentiation to compute a \n",
    "        # noisy approximation of the local gradient\n",
    "        optimizer.zero_grad()       # clear previous gradients\n",
    "        empirical_risk.backward()   # compute gradients\n",
    "        \n",
    "        # Finally, advance one step in the direction of steepest \n",
    "        # descent, using the noisy local gradient. \n",
    "        optimizer.step()            # move one step\n",
    "        \n",
    "        if ii % step == 0:\n",
    "            acc_t = validate(model, train_x[:n], train_t[:n]) \n",
    "            acc_v = validate(model, valid_x[:n], valid_t[:n])\n",
    "            \n",
    "            print(\"\\r%10d\\t%10.6f\\t%10.6f\" % (ii, acc_t, acc_v), end='')\n",
    "        \n",
    "            xx.append(ii)\n",
    "            yy_t.append(acc_t)\n",
    "            yy_v.append(acc_v)\n",
    "            \n",
    "    return (xx, yy_t, yy_v)"
   ]
  },
  {
   "cell_type": "code",
   "execution_count": 10,
   "metadata": {},
   "outputs": [],
   "source": [
    "def validate(model, inputs, targets):\n",
    "    # make sure we set evaluation mode so that any training specific\n",
    "    # operations are disabled.\n",
    "    model.eval() # evaluation mode\n",
    "    \n",
    "    with torch.no_grad(): # no need to compute gradients wrt. x and y\n",
    "        x = torch.from_numpy(inputs).float()\n",
    "        t = torch.from_numpy(targets).float()\n",
    "        # remember to reshape!\n",
    "        o = model(x.view(-1, 1)).reshape(t.shape)\n",
    "    return average_loss(o, t)"
   ]
  },
  {
   "cell_type": "markdown",
   "metadata": {},
   "source": [
    "matplotlib has two graphics systems: 1) function-based and 2) object-based. The function below (plot_accuracy) illustrates the function-based system, while plot_empirical_risk illustrates the object-based system."
   ]
  },
  {
   "cell_type": "code",
   "execution_count": 15,
   "metadata": {},
   "outputs": [],
   "source": [
    "def plot_average_loss(traces):\n",
    "    \n",
    "    xx, yy_t, yy_v = traces\n",
    "    \n",
    "    # create an empty figure\n",
    "    fig = plt.figure(figsize=(5, 5))\n",
    "    fig.tight_layout()\n",
    "    \n",
    "    # add a subplot to it\n",
    "    nrows, ncols, index = 1,1,1\n",
    "    ax  = fig.add_subplot(nrows,ncols,index)\n",
    "\n",
    "    ax.set_title(\"Average loss function\")\n",
    "    \n",
    "    ax.plot(xx, yy_t, 'b', lw=2, label='Training')\n",
    "    ax.plot(xx, yy_v, 'r', lw=2, label='Validation')\n",
    "\n",
    "    ax.set_xlabel('Iterations', fontsize=FONTSIZE)\n",
    "    ax.set_ylabel('average loss', fontsize=FONTSIZE)\n",
    "    ax.set_xscale('log')\n",
    "    ax.set_yscale('log')\n",
    "    ax.grid(True, which=\"both\", linestyle='-')\n",
    "    ax.legend(loc='upper right')\n",
    "\n",
    "    plt.show()"
   ]
  },
  {
   "cell_type": "markdown",
   "metadata": {
    "id": "NJC916BU-9L6"
   },
   "source": [
    "### Define model $f(\\mathbf{x}, \\theta)$"
   ]
  },
  {
   "cell_type": "code",
   "execution_count": 12,
   "metadata": {
    "colab": {
     "base_uri": "https://localhost:8080/"
    },
    "id": "gRVXyg9A1zQh",
    "outputId": "aa498166-4008-461a-c82a-9eab5b49b083"
   },
   "outputs": [
    {
     "name": "stdout",
     "output_type": "stream",
     "text": [
      "Sequential(\n",
      "  (0): Linear(in_features=1, out_features=50, bias=True)\n",
      "  (1): ReLU()\n",
      "  (2): Linear(in_features=50, out_features=1, bias=True)\n",
      ")\n"
     ]
    }
   ],
   "source": [
    "# Instead of create our own class, let's just use the Sequential class.\n",
    "# Try to guess what's going on here.\n",
    "N_INPUTS = 1\n",
    "N_OUTPUTS= 1\n",
    "model = nn.Sequential(nn.Linear(N_INPUTS, 50), nn.ReLU(),\n",
    "                      nn.Linear(50, N_OUTPUTS)\n",
    "     )\n",
    "\n",
    "print (model)"
   ]
  },
  {
   "cell_type": "markdown",
   "metadata": {},
   "source": [
    "### Train!"
   ]
  },
  {
   "cell_type": "markdown",
   "metadata": {
    "id": "e8R55NgQL4EC"
   },
   "source": [
    "Instantiate an optimizer, then train"
   ]
  },
  {
   "cell_type": "code",
   "execution_count": 13,
   "metadata": {},
   "outputs": [
    {
     "name": "stdout",
     "output_type": "stream",
     "text": [
      "Iteration vs average loss\n",
      " iteration\t train-set\t valid-set\n",
      "     10000\t  0.724156\t  0.699413"
     ]
    }
   ],
   "source": [
    "n_batch       = 100\n",
    "n_iterations  = 10001\n",
    "learning_rate = 1.e-2\n",
    "decay_rate    = 1.e-5  # rate at which to decrease learning_rate\n",
    "optimizer     = torch.optim.Adam(model.parameters(), \n",
    "                                 lr=learning_rate, \n",
    "                                 weight_decay=decay_rate)\n",
    "\n",
    "traces = train(model, optimizer, \n",
    "               average_loss,\n",
    "               get_batch,\n",
    "               train_x, train_t, \n",
    "               valid_x, valid_t,\n",
    "               n_batch, \n",
    "               n_iterations,\n",
    "               step=10)"
   ]
  },
  {
   "cell_type": "code",
   "execution_count": 14,
   "metadata": {},
   "outputs": [
    {
     "data": {
      "image/png": "[encoded data removed]",
      "text/plain": [
       "<Figure size 360x360 with 1 Axes>"
      ]
     },
     "metadata": {
      "needs_background": "light"
     },
     "output_type": "display_data"
    }
   ],
   "source": [
    "plot_average_loss(traces)"
   ]
  },
  {
   "cell_type": "code",
   "execution_count": 16,
   "metadata": {},
   "outputs": [],
   "source": [
    "def plot_1d(x, y, xx, yy):\n",
    "    \n",
    "    # create an empty figure\n",
    "    fig = plt.figure(figsize=(5, 5))\n",
    "    fig.tight_layout()\n",
    "    \n",
    "    # add a subplot to it\n",
    "    nrows, ncols, index = 1,1,1\n",
    "    ax  = fig.add_subplot(nrows,ncols,index)\n",
    "    ax.scatter(x, y, c='k', s=0.5)\n",
    "    ax.plot(xx, yy, c='r')\n",
    "    ax.set_xlabel('$x$', fontsize=FONTSIZE)\n",
    "\n",
    "    plt.show()"
   ]
  },
  {
   "cell_type": "code",
   "execution_count": 17,
   "metadata": {},
   "outputs": [],
   "source": [
    "xx = torch.Tensor(np.arange(-1, 1, 0.01))\n",
    "yy = model(xx.view(-1,1))\n",
    "xx = xx.detach().numpy()\n",
    "yy = yy.detach().numpy()"
   ]
  },
  {
   "cell_type": "code",
   "execution_count": 18,
   "metadata": {},
   "outputs": [
    {
     "data": {
      "image/png": "[encoded data removed]",
      "text/plain": [
       "<Figure size 360x360 with 1 Axes>"
      ]
     },
     "metadata": {
      "needs_background": "light"
     },
     "output_type": "display_data"
    }
   ],
   "source": [
    "M = 500\n",
    "plot_1d(data.x[:M], data.target[:M], xx, yy)"
   ]
  },
  {
   "cell_type": "code",
   "execution_count": null,
   "metadata": {},
   "outputs": [],
   "source": []
  },
  {
   "cell_type": "code",
   "execution_count": null,
   "metadata": {},
   "outputs": [],
   "source": []
  }
 ],
 "metadata": {
  "accelerator": "GPU",
  "colab": {
   "collapsed_sections": [],
   "name": "DRL_19_REINFORCE_Algorithm.ipynb",
   "provenance": []
  },
  "kernelspec": {
   "display_name": "Python 3",
   "language": "python",
   "name": "python3"
  },
  "language_info": {
   "codemirror_mode": {
    "name": "ipython",
    "version": 3
   },
   "file_extension": ".py",
   "mimetype": "text/x-python",
   "name": "python",
   "nbconvert_exporter": "python",
   "pygments_lexer": "ipython3",
   "version": "3.8.2"
  }
 },
 "nbformat": 4,
 "nbformat_minor": 1
}
