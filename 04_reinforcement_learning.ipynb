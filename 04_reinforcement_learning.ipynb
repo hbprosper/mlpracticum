{
 "cells": [
  {
   "cell_type": "markdown",
   "metadata": {},
   "source": [
    "# 04 Reinforcement Learning Tutorial\n",
    " > # Q-Learning\n",
    " >__Created__:  December 2020 Harrison B. Prosper<p>\n",
    " > Inspired by Manuel Amunategui's example at:<p> \n",
    " https://amunategui.github.io/reinforcement-learning\n",
    "     \n",
    "## Introduction\n",
    "Reinforcement learning is a class of algorithms for learning optimal strategies, that is, $(state, action)$ pairs, through trial and error guided by current and estimated future expected rewards. A path (or history) is a sequence of states and an action moves the environment from one state to another. Optimal in this context means that the chosen path yields the maximum expected reward. This class of algorithms is particularly well suited for activities that can be construed as games with well-defined rules. Here we review the basics of a reinforcement learning algorithm called $Q$-learning, starting with some definitions.\n",
    "     \n",
    "### Definitions and $Q$-Learning\n",
    "  1. __environment__: a configuration of objects. The objects could be, for example, pixels in an image.\n",
    "  1. __state__: a set of attributes, $s$, that characterize the environment at a given time $t$. This could be, for example, the values of the pixels.\n",
    "  1. __action__: a manipulation of the environment that causes it to transition to another state. An action, $a$, can be viewed as the mapping $a: s \\rightarrow s^\\prime$, where $s$ is the current state and $s^\\prime$ is the state to which the environment transitions. The mapping \n",
    "  can be modeled as a tuple: $(s, s^\\prime)$.\n",
    "  1. __reward__: the $immediate$ reward $R(s, a)$ associated with the action $a: s \\rightarrow s^\\prime$.\n",
    "  1. __agent__: an automaton, e.g., a bot, that can take actions that cause the environment to transition from one state to another.\n",
    "  1. __policy__: a method for choosing an action, $a$, in a given state, $s$. \n",
    "  1. __target state__: the desired state, $s^*$, to be reached by executing a sequence of actions determined by a policy.\n",
    "  1. __Q-function__: the *quality* of a policy, defined as he *expected* reward $Q(s, a)$ associated with action $a$ in state $s$. This is the function to be estimated by the $Q$-learning algorithm and the basis of the policy to be followed.\n",
    " \n",
    "A transition from one state to another may depend on previous states. However, the Q-learning algorithm, which is a particular *reinforcement learning* algorithm, assumes the Markov property:  *the transition from one state to another depends only on the current state*. The following rule [1],  called the __Temporal Difference Update__,\n",
    "\n",
    "\\begin{align}\n",
    "    Q(s, a) & \\leftarrow (1 - \\alpha) Q(s, a)  + \\alpha [R(s, a) + \\gamma \\max_{a^\\prime}Q(s^\\prime, a^\\prime)] ,\n",
    "\\end{align}\n",
    "\n",
    "has been shown to converge [2] to a function $Q^*(s, a)$ that maximizes the expected reward from state $s$ to the target state, $s^*$. The quantities $$0 < \\alpha \\leq 1 \\textrm{ and } 0 < \\gamma < 1$$ are hyperparameters. The hyperparameter $\\alpha$ determines how much of the future expected reward is to be taken into account during training relative to the current expected reward, while $\\gamma$ is the amount by which a future expected reward is to be discounted relative to the immediate reward $R$.\n",
    "     \n",
    "## Tutorial\n",
    "The goal of this tutorial is to have an agent find a path through a 2-D maze by following a policy estimated using $Q$-learning. In this context the environment, as defined above, can be modeled as a tuple $(x, y)$. Since the environment is defined by only quantities $x$ and $y$, its states can be visualized as points in a 2-D grid, that is, a maze. A $history$ of the environment is a sequence of states, in this case a path that connects grid points. The set of histories form a graph in which the states, $s$, are represented by the nodes of the graph and the actions, $a: s \\rightarrow s^\\prime$, are represented by directed edges between nodes. \n",
    "     \n",
    "\n",
    "### References\n",
    "  1. Christopher J.C.H Watkins, *Learning from delayed rewards*, PhD Thesis, University of Cambridge, England (1989).\n",
    "  1. Christopher J.C.H. Watkins and Peter Dayan, *Technical Note $Q$-Learning*, Machine Learning, __8__, 279-292 (1992)."
   ]
  },
  {
   "cell_type": "code",
   "execution_count": 2,
   "metadata": {},
   "outputs": [],
   "source": [
    "# standard modules\n",
    "import os, sys, time\n",
    "import numpy as np\n",
    "import matplotlib as mp\n",
    "import matplotlib.pyplot as plt\n",
    "\n",
    "# a nice module to handle graphs (in this context, a graph \n",
    "# is a network of nodes with directed edges between them).\n",
    "# to install the module do\n",
    "#   conda install networkx\n",
    "# within your miniconda3 environment\n",
    "import networkx as nx\n",
    "\n",
    "# draw graphs inline\n",
    "%matplotlib inline"
   ]
  },
  {
   "cell_type": "code",
   "execution_count": 3,
   "metadata": {},
   "outputs": [],
   "source": [
    "# update fonts\n",
    "FONTSIZE = 16\n",
    "font = {'family' : 'serif',\n",
    "        'weight' : 'normal',\n",
    "        'size'   : FONTSIZE}\n",
    "mp.rc('font', **font)\n",
    "mp.rc('xtick', labelsize='x-small')\n",
    "mp.rc('ytick', labelsize='x-small')\n",
    "\n",
    "# set a seed to ensure reproducibility \n",
    "# on a given machine\n",
    "seed = 111\n",
    "rnd  = np.random.RandomState(seed)\n",
    "\n",
    "mp.rc('text', usetex=False)"
   ]
  },
  {
   "cell_type": "markdown",
   "metadata": {},
   "source": [
    "### Define available states and actions \n",
    "The states form a 2-D grid of points, while actions are edges between points. \n",
    "\n",
    "<br>\n",
    "\n",
    "Create nodes\n",
    "\n",
    "For a square grid, the number of nodes is $n^2$, where $n$ is the number of points in the $x$ and $y$ directions."
   ]
  },
  {
   "cell_type": "code",
   "execution_count": 4,
   "metadata": {},
   "outputs": [],
   "source": [
    "# ---------------------------------------------\n",
    "# size of grid\n",
    "# ---------------------------------------------\n",
    "N = 25\n",
    "xmin, xmax = 0, N+1\n",
    "ymin, ymax = 0, N+1\n",
    "x_limits   = (xmin, xmax)\n",
    "y_limits   = (ymin, ymax)\n",
    "# ---------------------------------------------\n",
    "# create all possible nodes\n",
    "# ---------------------------------------------\n",
    "xx     = np.arange(xmin+1, xmax, 1)\n",
    "yy     = np.arange(ymin+1, ymax, 1)\n",
    "xx, yy = np.meshgrid(xx, yy)\n",
    "# convert meshgrid into a set of tuples (x, y)\n",
    "nodes  = [(x, y) for x, y in zip(xx.flatten(), \n",
    "                                 yy.flatten())]\n",
    "nodes  = set(nodes)"
   ]
  },
  {
   "cell_type": "markdown",
   "metadata": {},
   "source": [
    "Create edges\n",
    "\n",
    "For a square grid, the number of edges is $2 (n^2 - n)$, which makes intuitive sense. There are $n^2$ nodes with $n$ along the diagonal of the grid. The number of points excluding those on the diagonal is, therefore, $n^2 - n$. If we attach 2 edges to each of these points, one up and the other to the right for the points below the diagonal and one down and the other to the left for the points above the diagonal we arrive at the total number of edges, $2(n^2 - n)$."
   ]
  },
  {
   "cell_type": "code",
   "execution_count": 5,
   "metadata": {},
   "outputs": [
    {
     "name": "stdout",
     "output_type": "stream",
     "text": [
      "number of edges:  4900 4900\n"
     ]
    }
   ],
   "source": [
    "all_edges = []\n",
    "for pos in nodes:\n",
    "    x, y  = pos\n",
    "    \n",
    "    # go up one unit\n",
    "    u_pos = (x, y+1)\n",
    "    if u_pos in nodes:\n",
    "        all_edges.append((pos, u_pos))\n",
    "        \n",
    "    # go right one unit\n",
    "    r_pos = (x+1, y)\n",
    "    if r_pos in nodes:\n",
    "        all_edges.append((pos, r_pos))\n",
    "\n",
    "# create graph from the edges\n",
    "full_graph= nx.Graph()\n",
    "full_graph.add_edges_from(all_edges)\n",
    "print('number of edges: %5d' % len(all_edges), 2*(N**2-N))"
   ]
  },
  {
   "cell_type": "markdown",
   "metadata": {},
   "source": [
    "### Plot graph\n",
    "Plot the graph with the nodes placed as requested and an optional path."
   ]
  },
  {
   "cell_type": "code",
   "execution_count": 6,
   "metadata": {},
   "outputs": [],
   "source": [
    "def plot_graph(graph,   # a network of nodes\n",
    "               filename=None,\n",
    "               paths=[], # paths defined by ordered sequences of nodes\n",
    "               target=None,\n",
    "               xlimits=x_limits, \n",
    "               ylimits=y_limits,\n",
    "               latex=False):\n",
    "\n",
    "    # set to False if you do not have a\n",
    "    # fully functional latex system on\n",
    "    # the machine.\n",
    "    mp.rc('text', usetex=latex)\n",
    "        \n",
    "    # set up an empty figure\n",
    "    fig = plt.figure(figsize=(6, 6))\n",
    "    ax  = fig.add_subplot(1, 1, 1)\n",
    "    ax.set_xlabel('$x$', fontsize=12)\n",
    "    ax.set_ylabel('$y$', fontsize=12)\n",
    "    ax.set_xlim(xlimits)\n",
    "    ax.set_ylim(ylimits)\n",
    "\n",
    "    if len(paths) > 0:\n",
    "        kolors = ['red', 'orange', 'blue', 'magenta']\n",
    "        ii = 0\n",
    "        for path in paths:\n",
    "            # plot paths\n",
    "            x = [z for z, _ in path]\n",
    "            y = [z for _, z in path]\n",
    "            ax.plot(x, y, c=kolors[ii], linewidth=3)\n",
    "            ii += 1\n",
    "            if ii >= len(kolors):\n",
    "                ii = 0\n",
    "                \n",
    "    if target != None:\n",
    "        x, y = target\n",
    "        ax.scatter([x], [y], s=60, c='k')\n",
    "        \n",
    "    # in order to place the nodes where we\n",
    "    # want them, draw_networkx requires the\n",
    "    # positions to be given in a node to \n",
    "    # position map.\n",
    "    nodes = {}\n",
    "    for node in graph:\n",
    "        nodes[node] = node\n",
    "        \n",
    "    # finally, draw the network of connected\n",
    "    # nodes, that is, the graph!\n",
    "    nx.draw_networkx(graph, \n",
    "                     pos=nodes,\n",
    "                     node_color='green',\n",
    "                     node_size=10,\n",
    "                     alpha=0.3,\n",
    "                     edge_color='green',\n",
    "                     with_labels=False,\n",
    "                     width=1,\n",
    "                     font_size=5,\n",
    "                     ax=ax)\n",
    "    \n",
    "    # apparently, this is needed to make\n",
    "    # the axes appear!\n",
    "    ax.tick_params(left=True, \n",
    "                   bottom=True, \n",
    "                   labelleft=True, \n",
    "                   labelbottom=True)\n",
    "    fig.tight_layout()\n",
    "    \n",
    "    if filename != None:\n",
    "        plt.savefig(filename)\n",
    "        \n",
    "    plt.show()"
   ]
  },
  {
   "cell_type": "code",
   "execution_count": 7,
   "metadata": {},
   "outputs": [
    {
     "data": {
      "image/png": "[encoded data removed]",
      "text/plain": [
       "<Figure size 432x432 with 1 Axes>"
      ]
     },
     "metadata": {
      "needs_background": "light"
     },
     "output_type": "display_data"
    }
   ],
   "source": [
    "plot_graph(full_graph)"
   ]
  },
  {
   "cell_type": "markdown",
   "metadata": {},
   "source": [
    "Create a graph with randomly removed edges"
   ]
  },
  {
   "cell_type": "code",
   "execution_count": 8,
   "metadata": {},
   "outputs": [
    {
     "data": {
      "image/png": "[encoded data removed]",
      "text/plain": [
       "<Figure size 432x432 with 1 Axes>"
      ]
     },
     "metadata": {
      "needs_background": "light"
     },
     "output_type": "display_data"
    }
   ],
   "source": [
    "n_edges = 3000\n",
    "rnd.shuffle(all_edges)\n",
    "edges   = all_edges[:n_edges]\n",
    "graph   = nx.Graph()\n",
    "graph.add_edges_from(edges)\n",
    "plot_graph(graph)"
   ]
  },
  {
   "cell_type": "markdown",
   "metadata": {},
   "source": [
    "### Target state\n",
    "Based on the image above, choose target state."
   ]
  },
  {
   "cell_type": "code",
   "execution_count": 9,
   "metadata": {},
   "outputs": [],
   "source": [
    "target_state = (25, 25)"
   ]
  },
  {
   "cell_type": "markdown",
   "metadata": {},
   "source": [
    "### Model environment\n",
    "The states of the environment, itself modeled by the class *Environment*, are modeled as tuples $(x, y)$ with different integer values for the attributes $x$ and $y$. An action, $a$, is a mapping $a: (x, y) \\rightarrow (x^\\prime, y^\\prime)$ in which the attributes $x, x^\\prime$ and $y, y^\\prime$ differ, at most, by one unit. The environment class exports a few useful methods, such as *neighbors$(s)$* which returns, in a list, the nearest neighbor states connected to state $s$. Given the pair $(s, a)$, the environment returns the value of the immediate award $R(s, a)$ as well as the next state of the environment $s^\\prime$. Note, since in this example, $R(s, a)$ depends on $s^*$, the environment needs to be made aware of the desired target state $s^*$.\n",
    "\n",
    "In this example, the immediate reward function is rather simple\n",
    "\n",
    "\\begin{align}\n",
    "R(s, a) & = \\begin{cases}\n",
    "                r, & \\text{if } s^\\prime = s^*, \\textrm{ where } a: s \\rightarrow s^\\prime \\\\\n",
    "                0  & \\text{otherwise};\n",
    "            \\end{cases}\n",
    "\\end{align}\n",
    "the agent gets an immediate reward if its action transitions the environment to the target state, otherwise the agent gets nothing."
   ]
  },
  {
   "cell_type": "code",
   "execution_count": 10,
   "metadata": {},
   "outputs": [],
   "source": [
    "class Environment:\n",
    "    '''\n",
    " Help on class Environment:\n",
    "\n",
    " class Environment\n",
    "  |  Environment(graph)\n",
    "  |\n",
    "  |  Model an environment whose states are modeled by tuples (x, y),\n",
    "  |  where x and y are non-negative integers.\n",
    "  |\n",
    "  |  Parameters\n",
    "  |  ----------\n",
    "  |  graph         : graph defining the set of environment histories.\n",
    "  |  rmax          : maximum immediate reward (default=1.0)\n",
    "    '''\n",
    "    def __init__(self, graph, rmax=1.0):\n",
    "        \n",
    "        self.graph  = graph  \n",
    "        self.target = None  # target state\n",
    "        self.state  = None  # current state\n",
    "        self.rmax   = rmax  # maximum reward\n",
    "        \n",
    "    def __del__(self):\n",
    "        pass\n",
    "    \n",
    "    def __len__(self):\n",
    "        return self.number_of_states()\n",
    "    \n",
    "    def number_of_states(self):\n",
    "        return len(self.graph)\n",
    "    \n",
    "    def number_of_actions(self):\n",
    "        return len(self.graph.edges)\n",
    "        \n",
    "    def current_state(self):\n",
    "        return self.state\n",
    "    \n",
    "    def target_state(self):\n",
    "        return self.target\n",
    "           \n",
    "    def max_reward(self):\n",
    "        return self.rmax\n",
    "    \n",
    "    def states(self):\n",
    "        return list(self.graph)\n",
    "         \n",
    "    def actions(self):\n",
    "        return list(self.graph.edges)\n",
    "    \n",
    "    def neighbors(self, state):\n",
    "        if state in self.graph:\n",
    "            return list(self.graph[state])\n",
    "        else:\n",
    "            return None\n",
    "        \n",
    "    def set_target_state(self, target_state):\n",
    "        self.target = target_state\n",
    "    \n",
    "    # implement action a: state => next_state\n",
    "    def step(self, state, action):\n",
    "        self.state = state\n",
    "        \n",
    "        # make sure we have a valid (state, action) pair\n",
    "        states = self.neighbors(state)\n",
    "        if states == None:        return (state, 0)\n",
    "        if action <  0:           return (state, 0)\n",
    "        if action >= len(states): return (state, 0)\n",
    "        \n",
    "        # compute immediate reward\n",
    "        r = self.rmax if states[action] == self.target else 0\n",
    "        \n",
    "        # transition to next state\n",
    "        next_state = states[action]\n",
    "        self.state = next_state\n",
    "        \n",
    "        return (next_state, r)"
   ]
  },
  {
   "cell_type": "code",
   "execution_count": 11,
   "metadata": {},
   "outputs": [],
   "source": [
    "env = Environment(graph)"
   ]
  },
  {
   "cell_type": "markdown",
   "metadata": {},
   "source": [
    "### Model $Q(s, a)$ function\n",
    "\n",
    "Trained using: __Temporal Difference Update__,\n",
    "\n",
    "\\begin{align}\n",
    "    Q(s, a) & \\leftarrow (1 - \\alpha) Q(s, a)  + \\alpha [R(s, a) + \\gamma \\max_{a^\\prime}Q(s^\\prime, a^\\prime)] .\n",
    "\\end{align}"
   ]
  },
  {
   "cell_type": "code",
   "execution_count": 12,
   "metadata": {},
   "outputs": [],
   "source": [
    "class Qfunction:    \n",
    "    def __init__(self, env, \n",
    "                 gamma=0.9, alpha=1.0, epsilon=1.0, depsilon=0.0):\n",
    "        \n",
    "        # cache inputs, including the environment\n",
    "        self.env      = env             \n",
    "        self.gamma    = gamma\n",
    "        self.alpha    = alpha\n",
    "        self.epsilon  = epsilon\n",
    "        self.depsilon = depsilon\n",
    "        self.p        = 1 - epsilon\n",
    "        self.max_R    = env.max_reward()\n",
    "        self.sum_Q    = 0.0\n",
    "        self.max_Q    = 0.0\n",
    "        \n",
    "        # initialize scores and Q function\n",
    "        self.reset()\n",
    "\n",
    "    def __del__(self):\n",
    "        pass\n",
    "    \n",
    "    def __call__(self, state, action):\n",
    "        Q = self.Q\n",
    "        if state not in Q:\n",
    "            return -1\n",
    "        if action < 0:\n",
    "            return -2\n",
    "        if action >= len(Q[state]):\n",
    "            return -3\n",
    "        return Q[state][action]\n",
    "    \n",
    "    def __str__(self):\n",
    "        Q      = self.Q\n",
    "        env    = self.env\n",
    "        states = list(Q.keys())\n",
    "        states.sort()\n",
    "        \n",
    "        s_str = ''\n",
    "        for i, s in enumerate(states):\n",
    "            qq = Q[s]\n",
    "            nn = env.neighbors(s)\n",
    "            \n",
    "            x, y = s\n",
    "            s_str += '%5d (%2d,%2d) =>' % (i,x,y)\n",
    "            \n",
    "            for n in nn: s_str += ' (%2d,%2d)' % n\n",
    "            s_str += '\\n%16s' % ''\n",
    "            \n",
    "            for q in qq: s_str += ' %6.3f ' % q\n",
    "            s_str += '\\n'\n",
    "            \n",
    "        return s_str[:-1]\n",
    "    \n",
    "    def reset(self):\n",
    "        env = self.env\n",
    "        # initialize scores\n",
    "        self.scores = []\n",
    "        # initialize Q function to zero \n",
    "        # forall pairs (s, a)\n",
    "        self.Q = {} # Q values\n",
    "        for state in env.states():\n",
    "            self.Q[state] = [0]*len(env.neighbors(state))\n",
    "            \n",
    "    def update(self, state, action):\n",
    "        gamma = self.gamma\n",
    "        alpha = self.alpha\n",
    "        Q     = self.Q\n",
    "        env   = self.env\n",
    "        \n",
    "        # get next state and reward associated with\n",
    "        # action a: state => next_state\n",
    "        next_state, reward = env.step(state, action)\n",
    "        \n",
    "        # update Q value\n",
    "        # note: if alpha = 0.0, the agent learns nothing.\n",
    "        #       if alpha = 1.0, the agent relies solely on\n",
    "        #       the current expected reward and not at all \n",
    "        #       on prior estimates of the expected reward.\n",
    "        # gamma < 1 implies that future rewards are discounted\n",
    "        # relative to immediate rewards and the discount increases\n",
    "        # geometrically the more distant the future is from the\n",
    "        # present.\n",
    "        \n",
    "        s = state\n",
    "        a = action\n",
    "        n = next_state\n",
    "        \n",
    "        # for state n, get the action k with the largest Q value\n",
    "        k = np.argmax(Q[n])\n",
    "        \n",
    "        # update Q function\n",
    "        Q_prev  = Q[s][a]\n",
    "        \n",
    "        Q[s][a] = (1 - alpha)*Q[s][a] + alpha*(reward + gamma*Q[n][k])\n",
    "\n",
    "        Q_new   = Q[s][a]\n",
    "        \n",
    "        # update sum(Q)\n",
    "        self.sum_Q -= Q_prev\n",
    "        self.sum_Q += Q_new\n",
    "        # update max(Q)\n",
    "        if Q_new > self.max_Q: self.max_Q = Q_new\n",
    "        \n",
    "        # compute score\n",
    "        score = self.max_R*self.sum_Q/self.max_Q if self.max_Q > 0 else 0\n",
    "\n",
    "        return score\n",
    "    \n",
    "    def pick_state(self):\n",
    "        Q = self.Q\n",
    "        k = rnd.randint(len(Q))\n",
    "        return list(Q.keys())[k]\n",
    "    \n",
    "    def pick_action(self, state):\n",
    "        Q = self.Q\n",
    "        if state not in Q: return None\n",
    "        if len(Q[state]) == 0: return None\n",
    "        \n",
    "        # implement epsilon greedy policy:\n",
    "        #   for the given state, pick with probability \n",
    "        #   p = 1 - epsilon the action with the largest Q value \n",
    "        #   else pick a random action.\n",
    "        u = np.random.uniform()\n",
    "        if u < self.p:\n",
    "            # pick action with the largest Q value\n",
    "            a = np.argmax(Q[state])\n",
    "        else:\n",
    "            # pick a random action\n",
    "            a = rnd.randint(len(Q[state]))\n",
    "        return a\n",
    "        \n",
    "    def train(self, target_state, \n",
    "              n_iterations=10001, \n",
    "              reset_training=False):\n",
    "        # need to set target state since the immediate\n",
    "        # reward function computed by the environment\n",
    "        # depends on it.\n",
    "        self.env.set_target_state(target_state)\n",
    "        \n",
    "        if reset_training:\n",
    "            self.reset()\n",
    "            \n",
    "        for ii in range(n_iterations):\n",
    "            \n",
    "            # pick a state at random\n",
    "            state  = self.pick_state()\n",
    "            \n",
    "            # pick action according to an \n",
    "            # epsilon-greedy policy\n",
    "            action = self.pick_action(state)\n",
    "            \n",
    "            # update Q function\n",
    "            score  = self.update(state, action)\n",
    "            self.scores.append(score)\n",
    "            \n",
    "            # print score\n",
    "            if ii % 1000 == 0:\n",
    "                print('\\r%5d\\tscore: %10.2f' % (ii, score), end='')\n",
    "            \n",
    "    def set_Q(self, Q):\n",
    "        self.Q = Q\n",
    "        \n",
    "    def get_Q(self):\n",
    "        return self.Q\n",
    "    \n",
    "    def get_path(self, state):\n",
    "        # use greedy policy: \n",
    "        # choose action with largest Q value.\n",
    "        start = state\n",
    "        path  = [start]\n",
    "        \n",
    "        Q     = self.Q\n",
    "        env   = self.env\n",
    "        target= env.target_state()\n",
    "        max_it= 10 * len(Q)\n",
    "        \n",
    "        ii = 0\n",
    "        while (state != target) and (ii < max_it):\n",
    "            ii += 1\n",
    "            # get action with highest Q for given state\n",
    "            action = np.argmax(Q[state])\n",
    "            \n",
    "            # get the next state using optimal action\n",
    "            next_state = env.neighbors(state)[action]\n",
    "            \n",
    "            # if the next_state is already in the current\n",
    "            # path, then assume that the agent is lost!\n",
    "            if next_state == None or next_state in set(path):\n",
    "                path = []\n",
    "                break\n",
    "                    \n",
    "            # continue building path\n",
    "            path.append(next_state)\n",
    "            state = next_state\n",
    "        return path"
   ]
  },
  {
   "cell_type": "markdown",
   "metadata": {},
   "source": [
    "### Now train $Q$!"
   ]
  },
  {
   "cell_type": "code",
   "execution_count": 13,
   "metadata": {},
   "outputs": [],
   "source": [
    "Q = Qfunction(env)"
   ]
  },
  {
   "cell_type": "code",
   "execution_count": 14,
   "metadata": {},
   "outputs": [
    {
     "name": "stdout",
     "output_type": "stream",
     "text": [
      "500000\tscore:     577.23"
     ]
    }
   ],
   "source": [
    "n_iter = 200001\n",
    "Q.train(target_state, n_iter)"
   ]
  },
  {
   "cell_type": "code",
   "execution_count": 15,
   "metadata": {},
   "outputs": [],
   "source": [
    "def plot_scores(scores): \n",
    "    # create an empty figure\n",
    "    fig = plt.figure(figsize=(8, 4))\n",
    "    # add a subplot to it\n",
    "    nrows, ncols, index = 1,1,1\n",
    "    ax  = fig.add_subplot(nrows,ncols,index)\n",
    "    ax.set_ylim((0, 1.1*max(scores)))\n",
    "    ax.set_xlim((0, len(scores)))\n",
    "    \n",
    "    ax.plot(scores, 'b')\n",
    "    ax.set_xlabel('iterations', fontsize=16)\n",
    "    ax.set_ylabel('score', fontsize=16)\n",
    "    ax.grid(True, which=\"both\", linestyle='-')\n",
    "\n",
    "    plt.show()"
   ]
  },
  {
   "cell_type": "code",
   "execution_count": 16,
   "metadata": {},
   "outputs": [
    {
     "data": {
      "image/png": "[encoded data removed]",
      "text/plain": [
       "<Figure size 576x288 with 1 Axes>"
      ]
     },
     "metadata": {
      "needs_background": "light"
     },
     "output_type": "display_data"
    }
   ],
   "source": [
    "plot_scores(Q.scores)"
   ]
  },
  {
   "cell_type": "code",
   "execution_count": 17,
   "metadata": {},
   "outputs": [
    {
     "data": {
      "image/png": "[encoded data removed]",
      "text/plain": [
       "<Figure size 432x432 with 1 Axes>"
      ]
     },
     "metadata": {
      "needs_background": "light"
     },
     "output_type": "display_data"
    }
   ],
   "source": [
    "paths= []\n",
    "for start in graph:\n",
    "    if start == target_state: continue\n",
    "        \n",
    "    x, y = start\n",
    "    boundary = (x==1) or (x==N) or (y==1) or (y==N)\n",
    "    if not boundary: continue\n",
    "        \n",
    "    path = Q.get_path(start)\n",
    "    if len(path) == 0: continue\n",
    "    paths.append(path)\n",
    "    \n",
    "plot_graph(graph, \n",
    "           paths=paths,\n",
    "           target=target_state,\n",
    "           filename='04_maze.png')"
   ]
  },
  {
   "cell_type": "code",
   "execution_count": null,
   "metadata": {},
   "outputs": [],
   "source": []
  }
 ],
 "metadata": {
  "kernelspec": {
   "display_name": "Python 3",
   "language": "python",
   "name": "python3"
  },
  "language_info": {
   "codemirror_mode": {
    "name": "ipython",
    "version": 3
   },
   "file_extension": ".py",
   "mimetype": "text/x-python",
   "name": "python",
   "nbconvert_exporter": "python",
   "pygments_lexer": "ipython3",
   "version": "3.8.2"
  }
 },
 "nbformat": 4,
 "nbformat_minor": 1
}
