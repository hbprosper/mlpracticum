{
 "cells": [
  {
   "cell_type": "markdown",
   "metadata": {},
   "source": [
    "# 04 Reinforcement Learning Tutorial\n",
    " > # Q-Learning\n",
    " >__Created__:  December 2020 Harrison B. Prosper<p>\n",
    " > Inspired by Manuel Amunategui's example at:<p> \n",
    " https://amunategui.github.io/reinforcement-learning\n",
    "\n",
    "## Introduction\n",
    "Reinforcement learning is a class of algorithms for learning optimal strategies, that is, $(state, action)$ pairs, through trial and error guided by current and estimated future expected rewards. This class of algorithms is particularly suited for activities that can be construed as games with well-defined rules. Here we review the basics of an algorithm called $Q$-learning.\n",
    "\n",
    "### Definitions\n",
    "  1. __environment__: a configuration of objects. The objects could be, for example, pixels in a 2D image.\n",
    "  1. __state__: a set of attributes, $s$, that characterize the environment at a given time $t$. This could be, for example, the values of the pixels.\n",
    "  1. __action__: a manipulation of the environment that causes it to transition to another state. Abstractly, an action, $a$, is the mapping $a: s \\rightarrow s^\\prime$, where $s$ is the current state and $s^\\prime$ is the state to which the environment transitions. The mapping \n",
    "  can be modeled as a tuple: $(s, s^\\prime)$.\n",
    "  1. __reward__: the $immediate$ reward $R(s, a)$ associated with the action $a: s \\rightarrow s^\\prime$.\n",
    "  1. __agent__: an automaton, e.g., a bot, that can take actions that cause the environment to transition from one state to another.\n",
    "  1. __policy__: a method for choosing an action, $a$, in a given state, $s$. \n",
    "  1. __target state__: the desired state, $s^*$, to be reached by executing a sequence of actions determined by a policy.\n",
    "  1. __Q function__: the $expected$ reward $Q(s, a)$ associated with action $a$ in state $s$. This is the function to be estimated by the training algorithm and the basis of the policy to be followed.\n",
    " \n",
    "A transition from the one state to another may depend on previous states. However, the Q-learning algorithm assumes the Markov property:  *the transition from one state to another depends only on the current state*. The following rule [1],  called the __Temporal Difference Update__,\n",
    "\n",
    "\\begin{align}\n",
    "    Q(s, a) & \\leftarrow (1 - \\alpha) Q(s, a)  + \\alpha [R(s, a) + \\gamma \\max_{a^\\prime}Q(s^\\prime, a^\\prime)] ,\n",
    "\\end{align}\n",
    "\n",
    "has been shown to converge [2] to a function $Q^*(s, a)$ that maximizes the expected reward from state $s$ to the target state, $s^*$. The quantities $$0 < \\alpha \\leq 1 \\textrm{ and } 0 < \\gamma < 1$$ are hyperparameters. The hyperparameter $\\alpha$ determines how much of the future expected reward is to be taken into account during training relative to the current expected reward, while $\\gamma$ is the amount by which a future expected reward is to be discounted relative to the immediate reward $R$.\n",
    "\n",
    "## Tutorial\n",
    "In this tutorial the environment can be thought of as a 2-pixel image, modeled as a tuple $(x, y)$ with $x, y \\in X \\subset \\mathbb{J}$ [3]. Since the environment contains only 2 pixels $x$ and $y$, its states can be visualized as points in a regular 2-D grid. In an $n$-pixel image each state (that is, image) would be a point in a regular $n$-D grid. In either case, a history, or episode, of the environment is a contiguous path that connects grid points. The set of histories form a graph in which the states, $s$, are represented by the nodes of the graph and the actions, $a: s \\rightarrow s^\\prime$, are represented by directed edges between nodes. \n",
    "\n",
    "Of course, in the 2-pixel case, we can also just regard the 2-D graph as a 2-D maze to be navigated!\n",
    "\n",
    "<br>\n",
    "\n",
    "### References\n",
    "  1. Christopher J.C.H Watkins, *Learning from delayed rewards*, PhD Thesis, University of Cambridge, England (1989).\n",
    "  1. Christopher J.C.H. Watkins and Peter Dayan, *Technical Note $Q$-Learning*, Machine Learning, __8__, 279-292 (1992).\n",
    "  1. $\\mathbb{J}$ is the set if all non-negative integers."
   ]
  },
  {
   "cell_type": "code",
   "execution_count": 1,
   "metadata": {},
   "outputs": [],
   "source": [
    "# standard modules\n",
    "import os, sys, time\n",
    "import numpy as np\n",
    "import matplotlib as mp\n",
    "import matplotlib.pyplot as plt\n",
    "\n",
    "# a nice module to handle graphs (in this context, a graph \n",
    "# is a network of nodes with directed edges between them).\n",
    "# to install the module do\n",
    "#   conda install networkx\n",
    "# within your miniconda3 environment\n",
    "import networkx as nx\n",
    "\n",
    "# draw graphs inline\n",
    "%matplotlib inline"
   ]
  },
  {
   "cell_type": "code",
   "execution_count": 33,
   "metadata": {},
   "outputs": [],
   "source": [
    "# update fonts\n",
    "FONTSIZE = 14\n",
    "font = {'family' : 'serif',\n",
    "        'weight' : 'normal',\n",
    "        'size'   : FONTSIZE}\n",
    "mp.rc('font', **font)\n",
    "mp.rc('xtick', labelsize='x-small')\n",
    "mp.rc('ytick', labelsize='x-small')\n",
    "\n",
    "# set a seed to ensure reproducibility\n",
    "seed = 111\n",
    "rnd  = np.random.RandomState(seed)\n",
    "\n",
    "mp.rc('text', usetex=False)"
   ]
  },
  {
   "cell_type": "markdown",
   "metadata": {},
   "source": [
    "### Define available states and actions \n",
    "The states form a 2-D grid of points, while actions are edges between points. \n",
    "\n",
    "<br>\n",
    "\n",
    "Create nodes"
   ]
  },
  {
   "cell_type": "code",
   "execution_count": 34,
   "metadata": {},
   "outputs": [],
   "source": [
    "# ---------------------------------------------\n",
    "# size of grid\n",
    "# ---------------------------------------------\n",
    "xmin, xmax = 0, 6\n",
    "ymin, ymax = 0, 6\n",
    "x_limits   = (xmin, xmax)\n",
    "y_limits   = (ymin, ymax)\n",
    "# ---------------------------------------------\n",
    "# create all possible nodes\n",
    "# ---------------------------------------------\n",
    "xx     = np.arange(xmin+1, xmax, 1)\n",
    "yy     = np.arange(ymin+1, ymax, 1)\n",
    "xx, yy = np.meshgrid(xx, yy)\n",
    "# ---------------------------------------------\n",
    "# convert meshgrid into a list of tuples \n",
    "# ---------------------------------------------\n",
    "nodes  = [(x, y) for x, y in zip(xx.flatten(), \n",
    "                                 yy.flatten())]\n",
    "nodes  = set(nodes)"
   ]
  },
  {
   "cell_type": "markdown",
   "metadata": {},
   "source": [
    "Create edges"
   ]
  },
  {
   "cell_type": "code",
   "execution_count": 35,
   "metadata": {},
   "outputs": [],
   "source": [
    "all_edges = []\n",
    "for pos in nodes:\n",
    "    x, y  = pos\n",
    "    \n",
    "    # go up one unit\n",
    "    u_pos = (x, y+1)\n",
    "    if u_pos in nodes:\n",
    "        all_edges.append((pos, u_pos))\n",
    "        \n",
    "    # go right one unit\n",
    "    r_pos = (x+1, y)\n",
    "    if r_pos in nodes:\n",
    "        all_edges.append((pos, r_pos))\n",
    "\n",
    "# create graph from the edges\n",
    "full_graph= nx.Graph()\n",
    "full_graph.add_edges_from(all_edges)"
   ]
  },
  {
   "cell_type": "code",
   "execution_count": 46,
   "metadata": {},
   "outputs": [],
   "source": [
    "def plot_graph(graph,         # set of histories\n",
    "               filename=None,\n",
    "               history=[],    # a history to be highlighted\n",
    "               xlimits=x_limits, \n",
    "               ylimits=y_limits):\n",
    "\n",
    "    # if a history is given, create from it a \n",
    "    # sequence (s_edges) of edges from it\n",
    "    s_edges = []\n",
    "    if len(history) > 0:\n",
    "        i_node = history[0]\n",
    "        for j_node in history[1:]:\n",
    "            s_edges.append((i_node, j_node))\n",
    "            i_node = j_node \n",
    "    s_edges = set(s_edges)\n",
    "    \n",
    "    # color edges. if an edge connects two adjacent\n",
    "    # nodes of the given history, then color the edge \n",
    "    # blue, otherwise color the edge green.\n",
    "    colors = []\n",
    "    widths = []\n",
    "    for edge in graph.edges:\n",
    "        # reverse order of elements in tuple edge\n",
    "        r_edge  = edge[::-1]\n",
    "        \n",
    "        # if edge or r_edge is in the set of edges\n",
    "        # s_edges constructed from the history, color\n",
    "        # the edge blue otherwise color it green.\n",
    "        matched = (edge in s_edges) or (r_edge in s_edges)\n",
    "        if matched:\n",
    "            colors.append('blue')\n",
    "            widths.append(3)\n",
    "        else:\n",
    "            colors.append('green')\n",
    "            widths.append(1)\n",
    "        \n",
    "    # set up an empty figure\n",
    "    fig = plt.figure(figsize=(5, 5))\n",
    "    ax  = fig.add_subplot(1, 1, 1)\n",
    "    ax.set_xlabel('$x$', fontsize=FONTSIZE)\n",
    "    ax.set_ylabel('$y$', fontsize=FONTSIZE)\n",
    "    ax.set_xlim(xlimits)\n",
    "    ax.set_ylim(ylimits)\n",
    "\n",
    "    # get positions of nodes\n",
    "    nodes = {}\n",
    "    for node in graph:\n",
    "        nodes[node] = node\n",
    "        \n",
    "    # finally, draw graph!\n",
    "    nx.draw_networkx(graph, \n",
    "                     pos=nodes,\n",
    "                     node_color='orange',\n",
    "                     edge_color=colors,\n",
    "                     with_labels=True,\n",
    "                     width=widths, \n",
    "                     ax=ax)\n",
    "    \n",
    "    # apparently, this is needed to make\n",
    "    # the axes appear!\n",
    "    ax.tick_params(left=True, \n",
    "                   bottom=True, \n",
    "                   labelleft=True, \n",
    "                   labelbottom=True)\n",
    "    fig.tight_layout()\n",
    "    \n",
    "    if filename != None:\n",
    "        mp.rc('text', usetex=True)\n",
    "        plt.savefig(filename)\n",
    "        \n",
    "    plt.show()"
   ]
  },
  {
   "cell_type": "code",
   "execution_count": 37,
   "metadata": {},
   "outputs": [
    {
     "data": {
      "image/png": "[encoded data removed]",
      "text/plain": [
       "<Figure size 360x360 with 1 Axes>"
      ]
     },
     "metadata": {
      "needs_background": "light"
     },
     "output_type": "display_data"
    }
   ],
   "source": [
    "plot_graph(full_graph)"
   ]
  },
  {
   "cell_type": "markdown",
   "metadata": {},
   "source": [
    "Randomly delete edges"
   ]
  },
  {
   "cell_type": "code",
   "execution_count": 38,
   "metadata": {},
   "outputs": [
    {
     "data": {
      "image/png": "[encoded data removed]",
      "text/plain": [
       "<Figure size 360x360 with 1 Axes>"
      ]
     },
     "metadata": {
      "needs_background": "light"
     },
     "output_type": "display_data"
    }
   ],
   "source": [
    "rnd.shuffle(all_edges)\n",
    "n_edges = 25\n",
    "edges   = all_edges[:n_edges]\n",
    "graph   = nx.Graph()\n",
    "graph.add_edges_from(edges)\n",
    "plot_graph(graph)"
   ]
  },
  {
   "cell_type": "markdown",
   "metadata": {},
   "source": [
    "Add more edges as needed to eliminate disconnected sub-graphs."
   ]
  },
  {
   "cell_type": "code",
   "execution_count": 47,
   "metadata": {},
   "outputs": [
    {
     "data": {
      "image/png": "[encoded data removed]",
      "text/plain": [
       "<Figure size 360x360 with 1 Axes>"
      ]
     },
     "metadata": {
      "needs_background": "light"
     },
     "output_type": "display_data"
    }
   ],
   "source": [
    "edges.append(((2,4), (3,4)))\n",
    "graph = nx.Graph()\n",
    "graph.add_edges_from(edges)\n",
    "plot_graph(graph, filename='04_grid.png')"
   ]
  },
  {
   "cell_type": "markdown",
   "metadata": {},
   "source": [
    "### Target state\n",
    "Based on the image above, choose target state."
   ]
  },
  {
   "cell_type": "code",
   "execution_count": 40,
   "metadata": {},
   "outputs": [],
   "source": [
    "target_state = (4, 4)"
   ]
  },
  {
   "cell_type": "markdown",
   "metadata": {},
   "source": [
    "### Model environment\n",
    "The states of the environment, itself modeled by the class *Environment*, are modeled as tuples $(x, y)$ with different integer values for the attributes $x$ and $y$. An action, $a$, is a mapping $a: (x, y) \\rightarrow (x^\\prime, y^\\prime)$ in which the attributes $x, x^\\prime$ and $y, y^\\prime$ differ, at most, by one unit. The environment class exports a few useful methods, such as *neighbors$(s)$* which returns, in a list, the nearest neighbor states connected to state $s$. Given the pair $(s, a)$, the environment returns the value of the immediate award $R(s, a)$ as well as the next state of the environment $s^\\prime$. Note, since in this example, $R(s, a)$ depends on $s^*$, the environment needs to \"know\" the desired target state $s^*$.\n",
    "\n",
    "In this example, the immediate reward function is rather simple\n",
    "\n",
    "\\begin{align}\n",
    "R(s, a) & = \\begin{cases}\n",
    "                r, & \\text{if } s^\\prime = s^*, \\textrm{ where } a: s \\rightarrow s^\\prime \\\\\n",
    "                0  & \\text{otherwise};\n",
    "            \\end{cases}\n",
    "\\end{align}\n",
    "the agent gets an immediate reward if its action transitions the environment to the target state, otherwise the agent gets nothing.\n",
    "\n",
    "One can of course construct much more elaborate functions $R(s, a)$. A more complicated immediate reward function would take into account the possibility that some actions are more difficult than others. For example, suppose the 2-D grid of points represents actual positions in a mountainous terrain and the goal is to reach a low-lying settlement from any point in the terrian by following a path requiring the least amount of effort. A possible immediate reward function for action $a: s \\rightarrow s^\\prime$, in this case, might be\n",
    "\n",
    "\\begin{align}\n",
    "R(s, a) & = \\begin{cases}\n",
    "                +r &  \\text{if } s^\\prime = s^* \\\\\n",
    "               -r f & \\text{if } f = [h(s^\\prime) - h(s)] \\, / \\, h(s^\\prime) > 0  \\\\ \n",
    "                0 & \\text{otherwise}, \n",
    "            \\end{cases}\n",
    "\\end{align}\n",
    "\n",
    "where $h(s)$ is the height of the terrain at position $s$. This reward function favors actions that penalize climbing while not penalizing gentle or descending paths. \n",
    "\n",
    "A possible issue with such a reward function is that it may cause the agent to get stuck in a high mountain valley. It is therefore vital that sufficient random exploration occurs during training in order to avoid converging to a policy that allows this undesirable outcome."
   ]
  },
  {
   "cell_type": "code",
   "execution_count": 48,
   "metadata": {},
   "outputs": [],
   "source": [
    "class Environment:\n",
    "    '''\n",
    " Help on class Environment:\n",
    "\n",
    " class Environment\n",
    "  |  Environment(graph, target_state, r=1.0)\n",
    "  |\n",
    "  |  Model an environment whose states are modeled by tuples (x, y),\n",
    "  |  where x and y are non-negative integers.\n",
    "  |\n",
    "  |  Parameters\n",
    "  |  ----------\n",
    "  |  graph         : graph defining the set of environment histories.\n",
    "  |  target_state  : desired final state of environment.\n",
    "  |  r             : immediate reward given to agent if its action \n",
    "  |                  transitions the environment to the target state \n",
    "  |                  (default = 1.0).\n",
    "    '''\n",
    "    def __init__(self, graph, target_state, r=1.0):\n",
    "        \n",
    "        self.graph  = graph  \n",
    "        self.target = target_state\n",
    "        self.r      = r\n",
    "        self.state  = None\n",
    "        \n",
    "    def __del__(self):\n",
    "        pass\n",
    "    \n",
    "    def __len__(self):\n",
    "        return self.number_of_states()\n",
    "    \n",
    "    def number_of_states(self):\n",
    "        return len(self.graph)\n",
    "    \n",
    "    def number_of_actions(self):\n",
    "        return len(self.graph.edges)\n",
    "        \n",
    "    def current_state(self):\n",
    "        return self.state\n",
    "    \n",
    "    def target_state(self):\n",
    "        return self.target\n",
    "           \n",
    "    def max_reward(self):\n",
    "        return self.r\n",
    "    \n",
    "    def states(self):\n",
    "        return list(self.graph)\n",
    "         \n",
    "    def actions(self):\n",
    "        return list(self.graph.edges)\n",
    "    \n",
    "    def neighbors(self, state):\n",
    "        if state in self.graph:\n",
    "            return list(self.graph[state])\n",
    "        else:\n",
    "            return None\n",
    "        \n",
    "    # implement action a: state => next_state\n",
    "    def step(self, state, action):\n",
    "        self.state = state\n",
    "        \n",
    "        # make sure we have a valid (state, action) pair\n",
    "        states = self.neighbors(state)\n",
    "        if states == None:        return (state, -self.r)\n",
    "        if action <  0:           return (state, -self.r)\n",
    "        if action >= len(states): return (state, -self.r)\n",
    "        \n",
    "        # compute immediate reward\n",
    "        r = self.r if states[action] == self.target else 0\n",
    "        \n",
    "        # transition to next state\n",
    "        next_state = states[action]\n",
    "        self.state = next_state\n",
    "        \n",
    "        return (next_state, r)"
   ]
  },
  {
   "cell_type": "code",
   "execution_count": 49,
   "metadata": {},
   "outputs": [],
   "source": [
    "env = Environment(graph, target_state)"
   ]
  },
  {
   "cell_type": "markdown",
   "metadata": {},
   "source": [
    "### Model $Q(s, a)$ function\n",
    "\n",
    "Trained using: __Temporal Difference Update__,\n",
    "\n",
    "\\begin{align}\n",
    "    Q(s, a) & \\leftarrow (1 - \\alpha) Q(s, a)  + \\alpha [R(s, a) + \\gamma \\max_{a^\\prime}Q(s^\\prime, a^\\prime)] .\n",
    "\\end{align}"
   ]
  },
  {
   "cell_type": "code",
   "execution_count": 50,
   "metadata": {},
   "outputs": [],
   "source": [
    "class Qfunction:    \n",
    "    def __init__(self, env, \n",
    "                 gamma=0.9, alpha=1.0, epsilon=1.0, depsilon=0.0):\n",
    "        \n",
    "        # cache inputs, including the environment\n",
    "        self.env      = env             \n",
    "        self.gamma    = gamma\n",
    "        self.alpha    = alpha\n",
    "        self.epsilon  = epsilon\n",
    "        self.depsilon = depsilon\n",
    "        self.p        = 1 - epsilon\n",
    "        self.scores   = []\n",
    "        \n",
    "        # initialize Q function to zero forall pairs (s, a)\n",
    "        self.Q = {} # Q values\n",
    "        for state in env.states():\n",
    "            self.Q[state] = [0]*len(env.neighbors(state))\n",
    "\n",
    "    def __del__(self):\n",
    "        pass\n",
    "    \n",
    "    def __call__(self, state, action):\n",
    "        Q = self.Q\n",
    "        if state not in Q:\n",
    "            return -1\n",
    "        if action < 0:\n",
    "            return -2\n",
    "        if action >= len(Q[state]):\n",
    "            return -3\n",
    "        return Q[state][action]\n",
    "    \n",
    "    def __str__(self):\n",
    "        Q      = self.Q\n",
    "        env    = self.env\n",
    "        states = list(Q.keys())\n",
    "        states.sort()\n",
    "        \n",
    "        s_str = ''\n",
    "        for i, s in enumerate(states):\n",
    "            qq = Q[s]\n",
    "            nn = env.neighbors(s)\n",
    "            \n",
    "            x, y = s\n",
    "            s_str += '%5d (%2d,%2d) =>' % (i,x,y)\n",
    "            \n",
    "            for n in nn: s_str += ' (%2d,%2d)' % n\n",
    "            s_str += '\\n%16s' % ''\n",
    "            \n",
    "            for q in qq: s_str += ' %6.3f ' % q\n",
    "            s_str += '\\n'\n",
    "            \n",
    "        return s_str[:-1]\n",
    "    \n",
    "    def update(self, state, action):\n",
    "        gamma = self.gamma\n",
    "        alpha = self.alpha\n",
    "        Q     = self.Q\n",
    "        env   = self.env\n",
    "        \n",
    "        # get next state and reward associated with\n",
    "        # action a: state => next_state\n",
    "        next_state, reward = env.step(state, action)\n",
    "        \n",
    "        # update Q value\n",
    "        # note: if alpha = 0.0, the agent learns nothing.\n",
    "        #       if alpha = 1.0, the agent relies solely on\n",
    "        #       the current expected reward and not at all \n",
    "        #       on prior estimates of the expected reward.\n",
    "        # gamma < 1 implies that future rewards are discounted\n",
    "        # relative to immediate rewards and the discount increases\n",
    "        # geometrically the more distant the future is from the\n",
    "        # present.\n",
    "        \n",
    "        s = state\n",
    "        a = action\n",
    "        n = next_state\n",
    "        \n",
    "        # for state n, get the action k with the largest Q value\n",
    "        k = np.argmax(Q[n])\n",
    "        \n",
    "        # update Q function\n",
    "        Q[s][a] = (1 - alpha)*Q[s][a] + alpha*(reward + gamma*Q[n][k])\n",
    "        \n",
    "        # compute a score\n",
    "        sum_Q = self.sum_Q()\n",
    "        max_Q = self.max_Q()\n",
    "        max_R = env.max_reward()\n",
    "        score = max_R * sum_Q / max_Q if max_Q > 0 else 0\n",
    "        return score\n",
    "    \n",
    "    def pick_state(self):\n",
    "        Q = self.Q\n",
    "        k = rnd.randint(len(Q))\n",
    "        return list(Q.keys())[k]\n",
    "    \n",
    "    def pick_action(self, state):\n",
    "        Q = self.Q\n",
    "        if state not in Q: return None\n",
    "        if len(Q[state]) == 0: return None\n",
    "        \n",
    "        # implement epsilon greedy policy:\n",
    "        #   for the given state, pick with probability \n",
    "        #   p = 1 - epsilon the action with the largest Q value \n",
    "        #   else pick a random action.\n",
    "        u = np.random.uniform()\n",
    "        if u < self.p:\n",
    "            # pick action with the largest Q value\n",
    "            a = np.argmax(Q[state])\n",
    "        else:\n",
    "            # pick a random action\n",
    "            a = rnd.randint(len(Q[state]))\n",
    "        return a\n",
    "        \n",
    "    def train(self, n_iterations=4001):\n",
    "        \n",
    "        for ii in range(n_iterations):\n",
    "            \n",
    "            # pick a state at random\n",
    "            state  = self.pick_state()\n",
    "            \n",
    "            # pick action according to an \n",
    "            # epsilon-greedy policy\n",
    "            action = self.pick_action(state)\n",
    "            \n",
    "            # update Q function\n",
    "            score  = self.update(state, action)\n",
    "            \n",
    "            # print score\n",
    "            self.scores.append(score)\n",
    "            print('\\r%5d\\tscore: %10.2f' % (ii, score), end='')\n",
    "            time.sleep(0.001)\n",
    "         \n",
    "    def sum_Q(self):\n",
    "        Q     = self.Q\n",
    "        states= list(Q.keys())\n",
    "        sum_q = 0.0\n",
    "        for s in states: \n",
    "            sum_q += sum(Q[s])\n",
    "        return sum_q\n",
    "         \n",
    "    def max_Q(self):\n",
    "        Q     = self.Q\n",
    "        states= list(Q.keys())\n",
    "        max_q = 0.0\n",
    "        for s in states: \n",
    "            x = max(Q[s])\n",
    "            if x > max_q: max_q = x\n",
    "        return max_q\n",
    "            \n",
    "    def set_Q(self, Q):\n",
    "        self.Q = Q\n",
    "        \n",
    "    def get_Q(self):\n",
    "        return self.Q\n",
    "    \n",
    "    def get_path(self, state):\n",
    "        # use greedy policy: \n",
    "        # choose action with largest Q value.\n",
    "        start = state\n",
    "        path  = [start]\n",
    "        \n",
    "        Q     = self.Q\n",
    "        env   = self.env\n",
    "        target= env.target_state()\n",
    "        max_it= 10 * len(Q)\n",
    "        \n",
    "        ii = 0\n",
    "        while (state != target) and (ii < max_it):\n",
    "            ii += 1\n",
    "            # get action with highest Q for given state\n",
    "            action = np.argmax(Q[state])\n",
    "            \n",
    "            # get the next state using optimal action\n",
    "            next_state = env.neighbors(state)[action]\n",
    "            \n",
    "            # if the next_state is already in the current\n",
    "            # path, then assume that the agent is lost!\n",
    "            if next_state in set(path):\n",
    "                print('agent is lost along path %s => %s!' % \\\n",
    "                      (start, next_state))\n",
    "                path = []\n",
    "                break\n",
    "                    \n",
    "            # continue building path\n",
    "            path.append(next_state)\n",
    "            state = next_state\n",
    "        return path"
   ]
  },
  {
   "cell_type": "markdown",
   "metadata": {},
   "source": [
    "### Now train $Q$!"
   ]
  },
  {
   "cell_type": "code",
   "execution_count": 59,
   "metadata": {},
   "outputs": [
    {
     "name": "stdout",
     "output_type": "stream",
     "text": [
      " 4000\tscore:      20.41"
     ]
    }
   ],
   "source": [
    "Q = Qfunction(env)\n",
    "Q.train()"
   ]
  },
  {
   "cell_type": "code",
   "execution_count": 60,
   "metadata": {},
   "outputs": [],
   "source": [
    "def plot_scores(scores): \n",
    "    # create an empty figure\n",
    "    fig = plt.figure(figsize=(5, 5))\n",
    "    # add a subplot to it\n",
    "    nrows, ncols, index = 1,1,1\n",
    "    ax  = fig.add_subplot(nrows,ncols,index)\n",
    "    ax.set_ylim((0, 1.1*max(scores)))\n",
    "    ax.set_xlim((0, len(scores)))\n",
    "    \n",
    "    ax.plot(scores, 'b')\n",
    "    ax.set_xlabel('iterations', fontsize=16)\n",
    "    ax.set_ylabel('score', fontsize=16)\n",
    "    ax.grid(True, which=\"both\", linestyle='-')\n",
    "\n",
    "    plt.show()"
   ]
  },
  {
   "cell_type": "code",
   "execution_count": 61,
   "metadata": {},
   "outputs": [
    {
     "data": {
      "image/png": "[encoded data removed]",
      "text/plain": [
       "<Figure size 360x360 with 1 Axes>"
      ]
     },
     "metadata": {
      "needs_background": "light"
     },
     "output_type": "display_data"
    }
   ],
   "source": [
    "scores = Q.scores\n",
    "plot_scores(Q.scores)"
   ]
  },
  {
   "cell_type": "code",
   "execution_count": 62,
   "metadata": {},
   "outputs": [
    {
     "data": {
      "image/png": "[encoded data removed]",
      "text/plain": [
       "<Figure size 360x360 with 1 Axes>"
      ]
     },
     "metadata": {
      "needs_background": "light"
     },
     "output_type": "display_data"
    },
    {
     "name": "stdout",
     "output_type": "stream",
     "text": [
      "Q-function\n",
      "    0 ( 1, 1) => ( 2, 1) ( 1, 2)\n",
      "                  1.652   2.039 \n",
      "    1 ( 1, 2) => ( 1, 3) ( 1, 1)\n",
      "                  2.265   1.835 \n",
      "    2 ( 1, 3) => ( 1, 4) ( 1, 2)\n",
      "                  2.517   2.039 \n",
      "    3 ( 1, 4) => ( 1, 3) ( 1, 5) ( 2, 4)\n",
      "                  2.265   2.265   2.797 \n",
      "    4 ( 1, 5) => ( 1, 4)\n",
      "                  2.517 \n",
      "    5 ( 2, 1) => ( 2, 2) ( 1, 1)\n",
      "                  1.486   1.835 \n",
      "    6 ( 2, 2) => ( 3, 2) ( 2, 1) ( 2, 3)\n",
      "                  1.338   1.652   1.338 \n",
      "    7 ( 2, 3) => ( 2, 2)\n",
      "                  1.486 \n",
      "    8 ( 2, 4) => ( 1, 4) ( 3, 4)\n",
      "                  2.517   3.108 \n",
      "    9 ( 3, 1) => ( 3, 2) ( 4, 1)\n",
      "                  1.338   1.083 \n",
      "   10 ( 3, 2) => ( 2, 2) ( 3, 3) ( 4, 2) ( 3, 1)\n",
      "                  1.486   1.204   1.204   1.204 \n",
      "   11 ( 3, 3) => ( 3, 2) ( 4, 3)\n",
      "                  1.338   1.083 \n",
      "   12 ( 3, 4) => ( 3, 5) ( 2, 4)\n",
      "                  3.453   2.797 \n",
      "   13 ( 3, 5) => ( 3, 4) ( 4, 5)\n",
      "                  3.108   3.837 \n",
      "   14 ( 4, 1) => ( 4, 2) ( 5, 1) ( 3, 1)\n",
      "                  1.204   0.975   1.204 \n",
      "   15 ( 4, 2) => ( 4, 1) ( 3, 2) ( 4, 3) ( 5, 2)\n",
      "                  1.083   1.338   1.083   1.083 \n",
      "   16 ( 4, 3) => ( 5, 3) ( 3, 3) ( 4, 2)\n",
      "                  0.975   1.204   1.204 \n",
      "   17 ( 4, 4) => ( 5, 4)\n",
      "                  4.737 \n",
      "   18 ( 4, 5) => ( 3, 5) ( 5, 5)\n",
      "                  3.453   4.263 \n",
      "   19 ( 5, 1) => ( 4, 1)\n",
      "                  1.083 \n",
      "   20 ( 5, 2) => ( 5, 3) ( 4, 2)\n",
      "                  0.975   1.204 \n",
      "   21 ( 5, 3) => ( 4, 3) ( 5, 2)\n",
      "                  1.083   1.083 \n",
      "   22 ( 5, 4) => ( 4, 4) ( 5, 5)\n",
      "                  5.263   4.263 \n",
      "   23 ( 5, 5) => ( 4, 5) ( 5, 4)\n",
      "                  3.837   4.737 \n"
     ]
    }
   ],
   "source": [
    "plot_graph(graph)\n",
    "print('Q-function')\n",
    "print(Q)"
   ]
  },
  {
   "cell_type": "code",
   "execution_count": 65,
   "metadata": {},
   "outputs": [
    {
     "data": {
      "image/png": "[encoded data removed]",
      "text/plain": [
       "<Figure size 360x360 with 1 Axes>"
      ]
     },
     "metadata": {
      "needs_background": "light"
     },
     "output_type": "display_data"
    }
   ],
   "source": [
    "start= (5,3)\n",
    "path = Q.get_path(start)\n",
    "plot_graph(graph, history=path, filename='04_maze_%d_%d.png' % start)"
   ]
  },
  {
   "cell_type": "code",
   "execution_count": null,
   "metadata": {},
   "outputs": [],
   "source": []
  }
 ],
 "metadata": {
  "kernelspec": {
   "display_name": "Python 3",
   "language": "python",
   "name": "python3"
  },
  "language_info": {
   "codemirror_mode": {
    "name": "ipython",
    "version": 3
   },
   "file_extension": ".py",
   "mimetype": "text/x-python",
   "name": "python",
   "nbconvert_exporter": "python",
   "pygments_lexer": "ipython3",
   "version": "3.8.2"
  }
 },
 "nbformat": 4,
 "nbformat_minor": 1
}
