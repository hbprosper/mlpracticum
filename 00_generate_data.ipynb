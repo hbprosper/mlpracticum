{
 "cells": [
  {
   "cell_type": "markdown",
   "metadata": {
    "id": "SuIFavpviXb2"
   },
   "source": [
    "# Generate training data for exercises\n",
    " >__Created__:  2020 Harrison B. Prosper\n"
   ]
  },
  {
   "cell_type": "markdown",
   "metadata": {
    "id": "t5VYEOgpcD1S"
   },
   "source": [
    "### Using Google Drive in Google Colab\n",
    "It is often convenient to have access to Google Drive when this notebook is run in Google Colab. In order to gain access to Google Drive from the notebook do the following:\n",
    "  1. Place this notebook in a folder on Google Drive. Click on the notebook and choose to open it with Google Colab.\n",
    "  1. Once the notebook is running in Google Colab, uncomment and execute the cell below and follow the authentication instructions.\n",
    "  1. To use hardware acceleration select the menu item $\\color{blue}{\\textrm{Runtime/Change runtime type}}$ and select GPU.\n",
    "\n"
   ]
  },
  {
   "cell_type": "code",
   "execution_count": 2,
   "metadata": {
    "colab": {
     "base_uri": "https://localhost:8080/"
    },
    "executionInfo": {
     "elapsed": 464,
     "status": "ok",
     "timestamp": 1608742288049,
     "user": {
      "displayName": "Harrison Prosper",
      "photoUrl": "",
      "userId": "06677011918885244894"
     },
     "user_tz": 360
    },
    "id": "KgdtxHCWiamx",
    "outputId": "419fbd78-c667-4ea2-c87f-783c2fb0bb6c"
   },
   "outputs": [],
   "source": [
    "#from google.colab import drive \n",
    "#drive.mount('/content/gdrive') "
   ]
  },
  {
   "cell_type": "markdown",
   "metadata": {
    "id": "mBDGNeSscyNs"
   },
   "source": [
    "BASE should contain the folder in which you wish to save files (here called *colab_notebooks*)."
   ]
  },
  {
   "cell_type": "code",
   "execution_count": 3,
   "metadata": {
    "executionInfo": {
     "elapsed": 453,
     "status": "ok",
     "timestamp": 1608742314236,
     "user": {
      "displayName": "Harrison Prosper",
      "photoUrl": "",
      "userId": "06677011918885244894"
     },
     "user_tz": 360
    },
    "id": "473WMhUwcu73"
   },
   "outputs": [],
   "source": [
    "#BASE = '/content/gdrive/My Drive/colab_notebooks'\n",
    "BASE = './' "
   ]
  },
  {
   "cell_type": "markdown",
   "metadata": {
    "id": "RN08NTjDf1ve"
   },
   "source": [
    "### Standard imports"
   ]
  },
  {
   "cell_type": "code",
   "execution_count": 4,
   "metadata": {
    "executionInfo": {
     "elapsed": 447,
     "status": "ok",
     "timestamp": 1608742316268,
     "user": {
      "displayName": "Harrison Prosper",
      "photoUrl": "",
      "userId": "06677011918885244894"
     },
     "user_tz": 360
    },
    "id": "x878jEH0iXcE"
   },
   "outputs": [],
   "source": [
    "import os, sys\n",
    "import numpy as np\n",
    "import joblib as jb\n",
    "import scipy.stats as st \n",
    "import pandas as pd\n",
    "import matplotlib as mp\n",
    "import matplotlib.pyplot as plt\n",
    "%matplotlib inline"
   ]
  },
  {
   "cell_type": "markdown",
   "metadata": {
    "id": "aiRjpumAf5bP"
   },
   "source": [
    "### Set up fonts"
   ]
  },
  {
   "cell_type": "code",
   "execution_count": 5,
   "metadata": {
    "executionInfo": {
     "elapsed": 463,
     "status": "ok",
     "timestamp": 1608742317999,
     "user": {
      "displayName": "Harrison Prosper",
      "photoUrl": "",
      "userId": "06677011918885244894"
     },
     "user_tz": 360
    },
    "id": "fsPSFTcviXcG"
   },
   "outputs": [],
   "source": [
    "FONTSIZE = 14\n",
    "font = {'family' : 'serif',\n",
    "        'weight' : 'normal',\n",
    "        'size'   : FONTSIZE}\n",
    "mp.rc('font', **font)\n",
    "mp.rc('xtick', labelsize='x-small')\n",
    "mp.rc('ytick', labelsize='x-small')\n",
    "\n",
    "# set a seed to ensure reproducibility\n",
    "seed = 128\n",
    "rnd  = np.random.RandomState(seed)\n",
    "\n",
    "# uncomment if you have access to a full Latex installation and you\n",
    "# want high-quality fonts.\n",
    "#mp.rc('text', usetex=True)"
   ]
  },
  {
   "cell_type": "markdown",
   "metadata": {
    "id": "l1NRXkRdiXcI"
   },
   "source": [
    "### Data: 01_classification.ipynb"
   ]
  },
  {
   "cell_type": "code",
   "execution_count": 6,
   "metadata": {
    "colab": {
     "base_uri": "https://localhost:8080/"
    },
    "executionInfo": {
     "elapsed": 737,
     "status": "ok",
     "timestamp": 1608742435919,
     "user": {
      "displayName": "Harrison Prosper",
      "photoUrl": "",
      "userId": "06677011918885244894"
     },
     "user_tz": 360
    },
    "id": "kOZtHQf4iXcJ",
    "outputId": "9127f72c-4d9f-4b28-c8ab-312083c1edce"
   },
   "outputs": [
    {
     "name": "stdout",
     "output_type": "stream",
     "text": [
      "Overwriting cprob.py\n"
     ]
    }
   ],
   "source": [
    "%%writefile cprob.py\n",
    "import numpy as np\n",
    "import scipy.stats as st\n",
    "\n",
    "STDV   = 0.5\n",
    "NDATA  = 15000\n",
    "\n",
    "# t = 0\n",
    "MU00   = np.array([-1.0, 1.0])\n",
    "COV00  = np.array([[STDV, 0.0],\n",
    "                   [ 0.0, STDV]])\n",
    "\n",
    "MU01   = np.array([1.0, -1.0])\n",
    "COV01  = np.array([[STDV, 0.0],\n",
    "                   [ 0.0, STDV]])\n",
    "\n",
    "# t = 1\n",
    "MU10   = np.array([-1.0, -1.0])\n",
    "COV10  = np.array([[STDV, 0.0],\n",
    "                   [ 0.0, STDV]])\n",
    "\n",
    "MU11   = np.array([1.0, 1.0])\n",
    "COV11  = np.array([[STDV, 0.0],\n",
    "                   [ 0.0, STDV]])\n",
    "\n",
    "# t = 0 \n",
    "# density\n",
    "def px0(x):\n",
    "    p \\\n",
    "    = st.multivariate_normal.pdf(x, MU00, COV00) \\\n",
    "    + st.multivariate_normal.pdf(x, MU01, COV01)\n",
    "    return p / 2\n",
    "\n",
    "# data generation\n",
    "def generate0():\n",
    "    xy = st.multivariate_normal.rvs(MU00, COV00, NDATA).tolist()\n",
    "    z  = st.multivariate_normal.rvs(MU01, COV01, NDATA).tolist()\n",
    "    xy.extend(z)\n",
    "    return np.array(xy)\n",
    "\n",
    "# t = 1 \n",
    "# density\n",
    "def px1(x):\n",
    "    p \\\n",
    "    = st.multivariate_normal.pdf(x, MU10, COV10) \\\n",
    "    + st.multivariate_normal.pdf(x, MU11, COV11)\n",
    "    return p / 2\n",
    "\n",
    "# data generation\n",
    "def generate1():\n",
    "    xy = st.multivariate_normal.rvs(MU10, COV10, NDATA).tolist()\n",
    "    z  = st.multivariate_normal.rvs(MU11, COV11, NDATA).tolist()\n",
    "    xy.extend(z)\n",
    "    return np.array(xy)\n",
    "\n",
    "# p(1|x)\n",
    "def p1x(x):\n",
    "    return px1(x) / ( px1(x) + px0(x) )"
   ]
  },
  {
   "cell_type": "code",
   "execution_count": 7,
   "metadata": {
    "executionInfo": {
     "elapsed": 464,
     "status": "ok",
     "timestamp": 1608742438444,
     "user": {
      "displayName": "Harrison Prosper",
      "photoUrl": "",
      "userId": "06677011918885244894"
     },
     "user_tz": 360
    },
    "id": "Gr-QiGV0iXcP"
   },
   "outputs": [],
   "source": [
    "import cprob as cp"
   ]
  },
  {
   "cell_type": "markdown",
   "metadata": {
    "id": "Sx6Pi7u7iXcR"
   },
   "source": [
    "Generate a balanced data set: $p(0) = p(1)$\n",
    "  1. Generate data for $t = 0$\n",
    "  1. Generate data for $t = 1$\n",
    "  1. Concatenate data sets\n",
    "  1. Randomly shuffle rows\n",
    "  1. Write out data set"
   ]
  },
  {
   "cell_type": "code",
   "execution_count": 8,
   "metadata": {
    "executionInfo": {
     "elapsed": 1000,
     "status": "ok",
     "timestamp": 1608742454965,
     "user": {
      "displayName": "Harrison Prosper",
      "photoUrl": "",
      "userId": "06677011918885244894"
     },
     "user_tz": 360
    },
    "id": "oDldDNSbiXcS"
   },
   "outputs": [],
   "source": [
    "def generate(target):\n",
    "    d  = cp.generate0() if target < 0.5 else cp.generate1()\n",
    "    N  = len(d)\n",
    "    T  = np.zeros(N) if target < 0.5 else np.ones(N)\n",
    "    X  = [x for x, y in d]\n",
    "    Y  = [y for x, y in d]\n",
    "    df = pd.DataFrame({'target': T, 'x': X, 'y': Y})\n",
    "    return df"
   ]
  },
  {
   "cell_type": "code",
   "execution_count": 10,
   "metadata": {
    "colab": {
     "base_uri": "https://localhost:8080/",
     "height": 363
    },
    "executionInfo": {
     "elapsed": 1492,
     "status": "ok",
     "timestamp": 1608742464040,
     "user": {
      "displayName": "Harrison Prosper",
      "photoUrl": "",
      "userId": "06677011918885244894"
     },
     "user_tz": 360
    },
    "id": "UAcJ9bMKiXcU",
    "outputId": "c6bbf602-bbf9-4fff-dfad-e1d0ca3edb0a"
   },
   "outputs": [
    {
     "data": {
      "text/html": [
       "<div>\n",
       "<style scoped>\n",
       "    .dataframe tbody tr th:only-of-type {\n",
       "        vertical-align: middle;\n",
       "    }\n",
       "\n",
       "    .dataframe tbody tr th {\n",
       "        vertical-align: top;\n",
       "    }\n",
       "\n",
       "    .dataframe thead th {\n",
       "        text-align: right;\n",
       "    }\n",
       "</style>\n",
       "<table border=\"1\" class=\"dataframe\">\n",
       "  <thead>\n",
       "    <tr style=\"text-align: right;\">\n",
       "      <th></th>\n",
       "      <th>target</th>\n",
       "      <th>x</th>\n",
       "      <th>y</th>\n",
       "    </tr>\n",
       "  </thead>\n",
       "  <tbody>\n",
       "    <tr>\n",
       "      <th>0</th>\n",
       "      <td>1.0</td>\n",
       "      <td>2.095157</td>\n",
       "      <td>1.331402</td>\n",
       "    </tr>\n",
       "    <tr>\n",
       "      <th>1</th>\n",
       "      <td>1.0</td>\n",
       "      <td>-1.373910</td>\n",
       "      <td>-1.460193</td>\n",
       "    </tr>\n",
       "    <tr>\n",
       "      <th>2</th>\n",
       "      <td>1.0</td>\n",
       "      <td>-0.070309</td>\n",
       "      <td>0.304780</td>\n",
       "    </tr>\n",
       "    <tr>\n",
       "      <th>3</th>\n",
       "      <td>0.0</td>\n",
       "      <td>-1.422918</td>\n",
       "      <td>1.710533</td>\n",
       "    </tr>\n",
       "    <tr>\n",
       "      <th>4</th>\n",
       "      <td>0.0</td>\n",
       "      <td>0.115399</td>\n",
       "      <td>-0.888842</td>\n",
       "    </tr>\n",
       "  </tbody>\n",
       "</table>\n",
       "</div>"
      ],
      "text/plain": [
       "   target         x         y\n",
       "0     1.0  2.095157  1.331402\n",
       "1     1.0 -1.373910 -1.460193\n",
       "2     1.0 -0.070309  0.304780\n",
       "3     0.0 -1.422918  1.710533\n",
       "4     0.0  0.115399 -0.888842"
      ]
     },
     "execution_count": 10,
     "metadata": {},
     "output_type": "execute_result"
    }
   ],
   "source": [
    "b = generate(0)\n",
    "s = generate(1)\n",
    "d = b.append(s)\n",
    "\n",
    "# frac=1 => all rows\n",
    "# reset_index(drop=True) => drop original indices and create new ones\n",
    "d = d.sample(frac=1).reset_index(drop=True)\n",
    "\n",
    "# save data\n",
    "jb.dump(d, '%s/data_01.db' % BASE)\n",
    "d[:5]"
   ]
  },
  {
   "cell_type": "code",
   "execution_count": 11,
   "metadata": {
    "executionInfo": {
     "elapsed": 797,
     "status": "ok",
     "timestamp": 1608742467664,
     "user": {
      "displayName": "Harrison Prosper",
      "photoUrl": "",
      "userId": "06677011918885244894"
     },
     "user_tz": 360
    },
    "id": "XdusIBKviXcV"
   },
   "outputs": [],
   "source": [
    "def plot_data_1(df, N=8000):\n",
    "    sig = df[df.target > 0.5][:N]\n",
    "    bkg = df[df.target < 0.5][:N]\n",
    "    \n",
    "    # create an empty figure\n",
    "    fig = plt.figure(figsize=(5, 5))\n",
    "    fig.tight_layout()\n",
    "    \n",
    "    # add a subplot to it\n",
    "    nrows, ncols, index = 1,1,1\n",
    "    ax  = fig.add_subplot(nrows,ncols,index)\n",
    "    ax.set_xlabel('$x$', fontsize=FONTSIZE)\n",
    "    ax.set_ylabel('$y$', fontsize=FONTSIZE)\n",
    "    ax.set_xlim([-4, 4])\n",
    "    ax.set_ylim([-4, 4])\n",
    "    ax.scatter(sig['x'], sig['y'], c='b', s=1, alpha=0.5, label='$t = 1$')\n",
    "    ax.scatter(bkg['x'], bkg['y'], c='r', s=1, alpha=0.5, label='$t = 0$')\n",
    "\n",
    "    ax.grid(True, which=\"both\", linestyle='-')\n",
    "    ax.legend(loc='upper right')\n",
    "\n",
    "    plt.show()"
   ]
  },
  {
   "cell_type": "code",
   "execution_count": 12,
   "metadata": {
    "colab": {
     "base_uri": "https://localhost:8080/",
     "height": 340
    },
    "executionInfo": {
     "elapsed": 1694,
     "status": "ok",
     "timestamp": 1608742472403,
     "user": {
      "displayName": "Harrison Prosper",
      "photoUrl": "",
      "userId": "06677011918885244894"
     },
     "user_tz": 360
    },
    "id": "jPl-RQq8iXcW",
    "outputId": "00d10016-d31c-4687-f285-ccc85fe6f33f"
   },
   "outputs": [
    {
     "data": {
      "image/png": "[encoded data removed]",
      "text/plain": [
       "<Figure size 360x360 with 1 Axes>"
      ]
     },
     "metadata": {
      "needs_background": "light"
     },
     "output_type": "display_data"
    }
   ],
   "source": [
    "plot_data_1(d)"
   ]
  },
  {
   "cell_type": "markdown",
   "metadata": {
    "id": "_4uZAVdXiXcY"
   },
   "source": [
    "### Data: 02_regression.ipynb"
   ]
  },
  {
   "cell_type": "code",
   "execution_count": 13,
   "metadata": {
    "executionInfo": {
     "elapsed": 456,
     "status": "ok",
     "timestamp": 1608742598266,
     "user": {
      "displayName": "Harrison Prosper",
      "photoUrl": "",
      "userId": "06677011918885244894"
     },
     "user_tz": 360
    },
    "id": "HYmPwpduiXcY"
   },
   "outputs": [],
   "source": [
    "N  = 60000\n",
    "x  = np.random.uniform(-1, 1, N)\n",
    "\n",
    "# targets\n",
    "t = 3 * np.exp(-x/2) * np.sin(10*x)**2 + 2*np.cos(6*x) - 1.5"
   ]
  },
  {
   "cell_type": "code",
   "execution_count": 14,
   "metadata": {
    "colab": {
     "base_uri": "https://localhost:8080/",
     "height": 206
    },
    "executionInfo": {
     "elapsed": 532,
     "status": "ok",
     "timestamp": 1608742598740,
     "user": {
      "displayName": "Harrison Prosper",
      "photoUrl": "",
      "userId": "06677011918885244894"
     },
     "user_tz": 360
    },
    "id": "Emn522o2iXcZ",
    "outputId": "f12e75c3-6008-4647-ee1b-547a4ea44136"
   },
   "outputs": [
    {
     "data": {
      "text/html": [
       "<div>\n",
       "<style scoped>\n",
       "    .dataframe tbody tr th:only-of-type {\n",
       "        vertical-align: middle;\n",
       "    }\n",
       "\n",
       "    .dataframe tbody tr th {\n",
       "        vertical-align: top;\n",
       "    }\n",
       "\n",
       "    .dataframe thead th {\n",
       "        text-align: right;\n",
       "    }\n",
       "</style>\n",
       "<table border=\"1\" class=\"dataframe\">\n",
       "  <thead>\n",
       "    <tr style=\"text-align: right;\">\n",
       "      <th></th>\n",
       "      <th>target</th>\n",
       "      <th>x</th>\n",
       "    </tr>\n",
       "  </thead>\n",
       "  <tbody>\n",
       "    <tr>\n",
       "      <th>0</th>\n",
       "      <td>-3.105740</td>\n",
       "      <td>0.629966</td>\n",
       "    </tr>\n",
       "    <tr>\n",
       "      <th>1</th>\n",
       "      <td>-0.286466</td>\n",
       "      <td>0.246750</td>\n",
       "    </tr>\n",
       "    <tr>\n",
       "      <th>2</th>\n",
       "      <td>-2.917715</td>\n",
       "      <td>0.581079</td>\n",
       "    </tr>\n",
       "    <tr>\n",
       "      <th>3</th>\n",
       "      <td>0.419841</td>\n",
       "      <td>0.859817</td>\n",
       "    </tr>\n",
       "    <tr>\n",
       "      <th>4</th>\n",
       "      <td>0.526352</td>\n",
       "      <td>0.847580</td>\n",
       "    </tr>\n",
       "  </tbody>\n",
       "</table>\n",
       "</div>"
      ],
      "text/plain": [
       "     target         x\n",
       "0 -3.105740  0.629966\n",
       "1 -0.286466  0.246750\n",
       "2 -2.917715  0.581079\n",
       "3  0.419841  0.859817\n",
       "4  0.526352  0.847580"
      ]
     },
     "execution_count": 14,
     "metadata": {},
     "output_type": "execute_result"
    }
   ],
   "source": [
    "df = pd.DataFrame({'target': t, 'x': x})\n",
    "jb.dump(df, '%s/data_02.db' % BASE)\n",
    "df[:5]"
   ]
  },
  {
   "cell_type": "code",
   "execution_count": 15,
   "metadata": {
    "executionInfo": {
     "elapsed": 532,
     "status": "ok",
     "timestamp": 1608742601197,
     "user": {
      "displayName": "Harrison Prosper",
      "photoUrl": "",
      "userId": "06677011918885244894"
     },
     "user_tz": 360
    },
    "id": "bSDsq22UiXcb"
   },
   "outputs": [],
   "source": [
    "def plot_1d(x, t):\n",
    "    \n",
    "    # create an empty figure\n",
    "    fig = plt.figure(figsize=(5, 5))\n",
    "    fig.tight_layout()\n",
    "    \n",
    "    # add a subplot to it\n",
    "    nrows, ncols, index = 1,1,1\n",
    "    ax  = fig.add_subplot(nrows,ncols,index)\n",
    "    ax.scatter(x, t, c='b', s=5)\n",
    "    ax.set_xlabel('$x$', fontsize=FONTSIZE)\n",
    "    ax.set_ylabel('$t$', fontsize=FONTSIZE)\n",
    "    ax.set_xlim([-1, 1])\n",
    "    ax.set_ylim([-4, 4])\n",
    "    ax.grid(True, which=\"both\", linestyle='-')\n",
    "    plt.show()"
   ]
  },
  {
   "cell_type": "code",
   "execution_count": 16,
   "metadata": {
    "colab": {
     "base_uri": "https://localhost:8080/",
     "height": 340
    },
    "executionInfo": {
     "elapsed": 600,
     "status": "ok",
     "timestamp": 1608742603455,
     "user": {
      "displayName": "Harrison Prosper",
      "photoUrl": "",
      "userId": "06677011918885244894"
     },
     "user_tz": 360
    },
    "id": "Ee8iwGG4iXcc",
    "outputId": "60e9487a-f768-4af1-ff29-62530eb671a9"
   },
   "outputs": [
    {
     "data": {
      "image/png": "[encoded data removed]",
      "text/plain": [
       "<Figure size 360x360 with 1 Axes>"
      ]
     },
     "metadata": {
      "needs_background": "light"
     },
     "output_type": "display_data"
    }
   ],
   "source": [
    "M = 500\n",
    "plot_1d(x[:M], t[:M])"
   ]
  },
  {
   "cell_type": "markdown",
   "metadata": {
    "id": "55w8_UP4iXcf"
   },
   "source": [
    "### Data: 03_likelihood.ipynb\n",
    "We shall generate data using the generalized gamma density, defined by\n",
    "\\begin{align}\n",
    "    p(x | a, c) & = |c| \\frac{x^{ca - 1} \\exp(-x^c)}{\\Gamma(a)} .\n",
    "\\end{align}\n",
    "\n",
    "In a real application, the data would be the result of a stochastic simulation in which the density is unknown or intractable.\n",
    "\n",
    "\n",
    "#### Generation of simulated data\n",
    "The basic procedure is the same for all simulations:\n",
    "  1. Sample a parameter point from a known density: $\\theta_m \\sim p(\\theta | 1)$.\n",
    "  1. Simulate $x_m$ given $\\theta_m$.\n",
    "  1. Repeat 1 and 2 $N$ times.\n",
    "Generally, $p(\\theta | 1)$ is chosen so that it is easy and fast to sample from and so that the generated sample $\\{ \\theta_m \\}$ has good space-filling properties in the relevant subset of the parameter space. \n",
    "\n",
    "Here, we have choosen $p(\\theta | 1)$ to be a uniform density in a 2D square parameter subspace. But a uniform density is not necessarily the best choice in a high-dimensional parameter space. Consider the volume enclosed by an $n$-dimensional box of side $2R$ that encloses an $n$-dimensional sphere or radius $R$. The ratio of the volume of the box to that of the sphere is\n",
    "\n",
    "\\begin{align}\n",
    "  r & = \\frac{(2R)^n}{\\pi^{n/2} R^n \\, / \\, \\Gamma(n/2 + 1)}, \\\\\n",
    "  & = 2^n \\Gamma(n/2 + 1) \\, / \\, \\pi^{n/2}, \\\\\n",
    "  & \\approx 2^n \\left(\\frac{n}{2\\pi e}\\right)^{n/2}, \n",
    "\\end{align}\n",
    "\n",
    "which shows that for $n >> 2$, most of the volume of the box is squeezed into its corners. Consequently, a uniform density over the box may not necessariy place parameter points where they are needed most, which is in the *support* of the likelihood when the latter is viewed as a function of its parameters. But this presents a \"chicken and egg\" problem: in order to know where to place the parameter points, we need to have some idea of the support of the likelihood, which requires some knowledge of the likelihood!\n",
    "\n",
    "This is not quite as hopeless as it might seem. We could use a simple fitting procedure, e.g., least squares, in order to arrive at the approximate location of the mode of the likelihood. Given a rough idea of the mode, we can at least ensure that we sample about the mode.\n",
    "\n",
    "\n",
    "  1. __Data associated with target__ $t = 1$\n",
    "     1. Generate $N$ sets of parameters $\\theta = a, c$ uniformly in the space $(0.1, 5.0) \\otimes  (0.1, 5.0)$. \n",
    "     1. For each parameter point $\\theta_m = a_m, c_m$ generate a single datum $x_m$ using \n",
    "    \\begin{align}\n",
    "    p(x | a_m, c_m) & = |c_m| \\frac{x^{c_m a_m - 1} \\exp(-x^{c_m})}{\\Gamma(a_m)} .\n",
    "    \\end{align}\n",
    "     1. Assign $t = 1$ to these data: $\\{ \\color{blue}{(1, x_m, a_m, c_m)}, m = 1,\\cdots,N \\}$. <p>\n",
    "  1. __Data associated with target__ $t = 0$\n",
    "     1. Generate $N$ sets of parameters as for $t = 1$.\n",
    "     1. Generate $N$ values $\\{ x_m, m = 1,\\cdots,N \\}$ uniformly in the space $(0.0, 10.0)$\n",
    "     1. Assign $t = 0$ to these data: $\\{ \\color{red}{(0, x_m, a_m, c_m)}, m = 1,\\cdots,N \\}$.\n",
    "  1. Concatenate the two data sets into a single table and randomly shuffle the rows."
   ]
  },
  {
   "cell_type": "code",
   "execution_count": 17,
   "metadata": {
    "executionInfo": {
     "elapsed": 474,
     "status": "ok",
     "timestamp": 1608742829291,
     "user": {
      "displayName": "Harrison Prosper",
      "photoUrl": "",
      "userId": "06677011918885244894"
     },
     "user_tz": 360
    },
    "id": "wpnp617BiXcf"
   },
   "outputs": [],
   "source": [
    "def plot_gengamma(a, c, xmin=0, xmax=5, xstep=0.01):\n",
    "  \n",
    "    # create an empty figure\n",
    "    fig = plt.figure(figsize=(5, 4))\n",
    "    \n",
    "    # add a subplot to it\n",
    "    nrows, ncols, index = 1,1,1\n",
    "    \n",
    "    ax = fig.add_subplot(nrows,ncols,index)\n",
    "    ax.set_xlabel('$x$', fontsize=FONTSIZE)\n",
    "    ax.set_ylabel('$p(x|a, c)$', fontsize=FONTSIZE)\n",
    "    ax.set_xlim([xmin, xmax])\n",
    "    ax.set_ylim([0.0, 3.0])\n",
    "    \n",
    "    x  = np.arange(xmin, xmax+xstep, xstep)\n",
    "    kolor = ['red', 'orange', 'yellow', \n",
    "             'green', 'blue', 'indigo', 'violet']\n",
    "    i = 0\n",
    "    for ai, ci in zip(a, c):\n",
    "        y = st.gengamma.pdf(x, ai, ci)\n",
    "        ax.plot(x, y, color=kolor[i])\n",
    "        i += 1\n",
    "        if i >= len(kolor):\n",
    "            i = 0\n",
    "    fig.tight_layout()\n",
    "    plt.show()"
   ]
  },
  {
   "cell_type": "code",
   "execution_count": 18,
   "metadata": {
    "executionInfo": {
     "elapsed": 833,
     "status": "ok",
     "timestamp": 1608742831189,
     "user": {
      "displayName": "Harrison Prosper",
      "photoUrl": "",
      "userId": "06677011918885244894"
     },
     "user_tz": 360
    },
    "id": "BFlpm7TTiXcf"
   },
   "outputs": [],
   "source": [
    "def plot_data_2(df, N=8000, nbins=25, limits=(0, 5)):\n",
    "    \n",
    "    # divide data into \n",
    "    # those with target == 1 and \n",
    "    # those with target == 0.\n",
    "    sig = df[df.target > 0.5]\n",
    "    bkg = df[df.target < 0.5]\n",
    "    if len(sig) > N:\n",
    "        sig = sig[:N]\n",
    "    if len(bkg) > N:\n",
    "        bkg = bkg[:N]\n",
    "    \n",
    "    # create an empty figure\n",
    "    fig = plt.figure(figsize=(5, 5))\n",
    "    fig.tight_layout()\n",
    "    \n",
    "    # add a subplot to it\n",
    "    nrows, ncols, index = 1,1,1\n",
    "    ax  = fig.add_subplot(nrows,ncols,index)\n",
    "    ax.set_xlabel('$x$', fontsize=FONTSIZE)\n",
    "    ax.set_ylabel('$y$', fontsize=FONTSIZE)\n",
    "    ax.set_xlim(limits)\n",
    "    \n",
    "    if len(sig) > 0:\n",
    "        ax.hist(sig.x, bins=nbins, range=limits,\n",
    "                color='b', alpha=0.3, label='$t = 1$')\n",
    "    \n",
    "    if len(bkg) > 0:\n",
    "        ax.hist(bkg.x, bins=nbins, range=limits,\n",
    "                color='r', alpha=0.3, label='$t = 0$')\n",
    "        \n",
    "    ax.grid(True, which=\"both\", linestyle='-')\n",
    "    ax.legend(loc='upper right')\n",
    "\n",
    "    plt.show()"
   ]
  },
  {
   "cell_type": "markdown",
   "metadata": {
    "id": "Dh89j8NEiXcf"
   },
   "source": [
    "#### Generate $t = 1$ data"
   ]
  },
  {
   "cell_type": "code",
   "execution_count": 19,
   "metadata": {
    "colab": {
     "base_uri": "https://localhost:8080/",
     "height": 307
    },
    "executionInfo": {
     "elapsed": 1107,
     "status": "ok",
     "timestamp": 1608742894887,
     "user": {
      "displayName": "Harrison Prosper",
      "photoUrl": "",
      "userId": "06677011918885244894"
     },
     "user_tz": 360
    },
    "id": "vkmiYoASiXcg",
    "outputId": "0d67da92-ad4b-45fb-cd0c-dd5b0f435fe2"
   },
   "outputs": [
    {
     "name": "stdout",
     "output_type": "stream",
     "text": [
      "50000\n"
     ]
    },
    {
     "data": {
      "image/png": "[encoded data removed]",
      "text/plain": [
       "<Figure size 360x288 with 1 Axes>"
      ]
     },
     "metadata": {
      "needs_background": "light"
     },
     "output_type": "display_data"
    }
   ],
   "source": [
    "N    = 60000\n",
    "\n",
    "xmin = 0.0\n",
    "xmax =10.0\n",
    "\n",
    "amin = 0.1\n",
    "amax = 5.0\n",
    "\n",
    "cmin = 0.1\n",
    "cmax = 5.0\n",
    "\n",
    "a = rnd.uniform(amin, amax, N)\n",
    "c = rnd.uniform(cmin, cmax, N)\n",
    "x = st.gengamma.rvs(a, c, size=N)\n",
    "t = np.ones(N)\n",
    "\n",
    "keep = (x > xmin) & (x < xmax)\n",
    "\n",
    "N = 50000\n",
    "\n",
    "a = a[keep][:N]\n",
    "c = c[keep][:N]\n",
    "x = x[keep][:N]\n",
    "t = t[keep][:N]\n",
    "\n",
    "sf= pd.DataFrame({'target': t, 'x': x, 'a': a, 'c': c})\n",
    "print(len(sf))\n",
    "plot_gengamma(a[:8], c[:8])"
   ]
  },
  {
   "cell_type": "markdown",
   "metadata": {
    "id": "MW5Q-MRciXcg"
   },
   "source": [
    "#### Generate $t = 0$ data"
   ]
  },
  {
   "cell_type": "code",
   "execution_count": 20,
   "metadata": {
    "executionInfo": {
     "elapsed": 695,
     "status": "ok",
     "timestamp": 1608742933997,
     "user": {
      "displayName": "Harrison Prosper",
      "photoUrl": "",
      "userId": "06677011918885244894"
     },
     "user_tz": 360
    },
    "id": "-Sx82wZbiXcg"
   },
   "outputs": [],
   "source": [
    "N = 50000\n",
    "a = rnd.uniform(amin, amax, N)\n",
    "c = rnd.uniform(cmin, cmax, N)\n",
    "x = rnd.uniform(xmin, xmax, N)\n",
    "t = np.zeros(N)\n",
    "\n",
    "bf= pd.DataFrame({'target': t, 'x': x, 'a': a, 'c': c})"
   ]
  },
  {
   "cell_type": "code",
   "execution_count": 21,
   "metadata": {
    "colab": {
     "base_uri": "https://localhost:8080/",
     "height": 355
    },
    "executionInfo": {
     "elapsed": 1207,
     "status": "ok",
     "timestamp": 1608743066452,
     "user": {
      "displayName": "Harrison Prosper",
      "photoUrl": "",
      "userId": "06677011918885244894"
     },
     "user_tz": 360
    },
    "id": "aAng30sziXci",
    "outputId": "3fb4d25f-f288-4085-bd14-95f2dc0b395a"
   },
   "outputs": [
    {
     "name": "stdout",
     "output_type": "stream",
     "text": [
      "100000\n"
     ]
    },
    {
     "data": {
      "image/png": "[encoded data removed]",
      "text/plain": [
       "<Figure size 360x360 with 1 Axes>"
      ]
     },
     "metadata": {
      "needs_background": "light"
     },
     "output_type": "display_data"
    }
   ],
   "source": [
    "# append t=0 data to t=1 data\n",
    "data = sf.append(bf)\n",
    "\n",
    "# frac=1 => use all rows\n",
    "# reset_index(drop=True) => drop original indices and create new ones\n",
    "data = data.sample(frac=1).reset_index(drop=True)\n",
    "\n",
    "# save data\n",
    "jb.dump(data, '%s/data_03.db' % BASE)\n",
    "print(len(data))\n",
    "\n",
    "plot_data_2(data)"
   ]
  },
  {
   "cell_type": "code",
   "execution_count": null,
   "metadata": {
    "id": "j3g2JQB7iXcl"
   },
   "outputs": [],
   "source": []
  }
 ],
 "metadata": {
  "colab": {
   "collapsed_sections": [],
   "name": "00_generate_data.ipynb",
   "provenance": []
  },
  "kernelspec": {
   "display_name": "Python 3",
   "language": "python",
   "name": "python3"
  },
  "language_info": {
   "codemirror_mode": {
    "name": "ipython",
    "version": 3
   },
   "file_extension": ".py",
   "mimetype": "text/x-python",
   "name": "python",
   "nbconvert_exporter": "python",
   "pygments_lexer": "ipython3",
   "version": "3.8.2"
  }
 },
 "nbformat": 4,
 "nbformat_minor": 1
}
