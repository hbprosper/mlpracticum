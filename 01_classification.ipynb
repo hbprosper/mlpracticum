{
 "cells": [
  {
   "cell_type": "markdown",
   "metadata": {
    "id": "40Yb47zJQglm"
   },
   "source": [
    "# 01 Classification with PyTorch \n",
    "## Introduction\n",
    "In this exercise, we consider the task of classifying data comprising two classes using __supervised learning__. In supervised learning a model is trained (that is, fitted) to data consisting of (ideally) unambiguously labeled data. For classification, the label is the class to which a given data vector (also known as a __feature vector__) belongs, while for regression the labels are the values associated with the feature vectors. \n",
    "A feature vector could be, for example, the pixel values of a flattened 2D image.\n",
    "\n",
    "You will build a __binary__ classifier in which one class is labeled with the __target__ $t = 1$ while the other is labeled with the target $t = 0$ and each object to be classified is characterized by data $\\mathbf{x}$. That is, the data set is $\\{(t_i, \\mathbf{x}_i \\}$. The fundamental assumption of almost all machine learning models is that the data are presumed to be drawn from a joint probability density function (or, for discrete data, probability mass function), $p(t, \\mathbf{x})$.\n",
    "\n",
    "We shall use the machine learning model \n",
    "\n",
    "$$f(\\mathbf{x}, \\theta) = \\mbox{sigmoid}(\\,\\mathbf{b}_1 + \\mathbf{w}_1 \\, \\mbox{relu}(\\mathbf{b}_0 + \\mathbf{w}_0 \\, \\mathbf{x}) \\, ),$$\n",
    "\n",
    "where $\\mathbf{b}$ and $\\mathbf{w}$ (the biases and weights) are the parameters $\\theta$ of the model and $\\mbox{relu}(x)$ is a function applied to every element $x_i$ of its tensor argument (i.e., applied element-wise) defined by\n",
    "\n",
    "\\begin{align*}\n",
    "\\mbox{relu}(x) & = \\begin{cases}\n",
    "    x, & \\text{if } x \\gt 0\\\\\n",
    "    0              & \\text{otherwise}.\n",
    "\\end{cases}\n",
    "\\end{align*}\n",
    "\n",
    "The functions sigmoid and relu are implemented in the PyTorch functions\n",
    "torch.nn.__Sigmoid__() and torch.nn.__ReLU__(), respectively. In this exercise, $\\mathbf{b}_1$ is a scalar since we have just one output.\n",
    "\n",
    "\n",
    "## Recap: Bayes' Theorem\n",
    "\n",
    "Let\n",
    "\n",
    "$\n",
    "\\begin{align}\n",
    "    p(A) & = \\textrm{Probability of } A,\\\\\n",
    "    p(B) & = \\textrm{Probability of } B,\\\\\n",
    "    \\textrm{and } p(AB) = p(A \\cap B ) & = \\textrm{Probability of } A \\textrm{ and } B,\n",
    "\\end{align}\n",
    "$\n",
    "\n",
    "then,\n",
    "\n",
    "$\n",
    "\\begin{align}\n",
    "    p(A | B) & = \\frac{p(AB)}{p(B)},\n",
    "\\end{align}\n",
    "$\n",
    "\n",
    "is called the *conditional probability* of $A$ given $B$. This is answering the question: what is the chance that $A$ is true given that $B$ is true. For example, let $B = \\textrm{it is a cat}$ and let $A = \\textrm{the fur is white}$, then $p(A | B)$ is the probability that the fur is white given that it is a cat.\n",
    "\n",
    "From the definition of conditional probability, it follows that\n",
    "$p(AB) = p(A | B) \\, p(B)$. But, by swapping $A$ and $B$ on both sides of that equation, it is also true that $p(BA) = p(B | A) \\, p(A)$. But, since $p(AB) = p(BA)$, this leads to \n",
    "\n",
    "$\n",
    "\\begin{align}\n",
    "    p(\\color{red}{B} | A ) & = \\frac{p(A | \\color{red}{B}) \\, p(\\color{red}{B})}{p(A)},\n",
    "\\end{align}\n",
    "$\n",
    "\n",
    "which is __Bayes' Theorem__ (Thomas Bayes, 1763).\n",
    "\n",
    "Suppose we have multiple $B$s, $B_k$, $k = 1, \\cdots$ and the set of $B$s is *exhaustive*, that is, it contains all possible (relevant) $B_k$, then Bayes' theorem becomes\n",
    "\n",
    "$\n",
    "\\begin{align}\n",
    "    p(B_k | A ) & = \\frac{p(A | B_k) \\, p(B_k)}{p(A)}.\n",
    "\\end{align}\n",
    "$\n",
    "\n",
    "Because the set of $B_k$ is *exhaustive*, it follows that \n",
    "\n",
    "$\n",
    "\\begin{align}\n",
    "    \\sum_k p(B_k | A ) & = 1.\n",
    "\\end{align}\n",
    "$\n",
    "\n",
    "Consequently, $p(A)$ must satisfy the sum rule\n",
    "\n",
    "$\n",
    "\\begin{align}\n",
    "        p(A) & = \\sum_k p(A | B_k) \\, p(B_k), \\\\\n",
    "            & = \\sum_k p(A B_k) .\n",
    "\\end{align}\n",
    "$\n",
    "\n",
    "\n",
    "## Loss function\n",
    "Typically, a machine learning model is fitted to the training data by minimizing a suitably defined function, which in the statistics literature is often referred to as the __empirical risk__. (Fitting models to data is called learning by machine learning enthusiasts.) The empirical risk is a Monte Carlo approximation of the __risk functional__, defined by \n",
    "\n",
    "\\begin{align*}\n",
    "    R[f] &= \\int \\cdots \\int L(t, \\, f(\\mathbf{x}, \\theta)) \\, \n",
    "    p(t, \\, \\mathbf{x}) \\, dt \\, d\\mathbf{x},\n",
    "\\end{align*}\n",
    "\n",
    "where $L(t, \\, f)$ is called the __loss function__ and measures how much one loses if the output of the parameterized function $f(x, \\theta)$ differs from the __target__ $t$. $\\color{blue}{\\rm Warning}$: In the machine learning world, the empirical risk is typicaly referred to as the loss function, when what is really meant is the average loss function. \n",
    "\n",
    "__Important Note__: In order for the risk functional $R[f]$ to reach its minimum, defined by variations of $f$ that yield the condition $\\delta R = 0$ $\\forall \\, x$, the function $f$ must be sufficiently flexible. If the latter condition is satisfied, then the mathematical quantity approximated by $f$ depends solely on the form of the loss function $L(t, \\, f)$ and the probability distribution $p(t, \\, x)$ of the training data. In particular, it does not depend on\n",
    "    the details of the functon $f$ apart from its presumed flexibility. Of course, in practice, we do not minimize $R[f]$, but rather the empirical risk, which approximates it. Nevertheless, to the degree that a very large data set approximates an infinite one and to the degree that our minimizer is able to find a good approximation to the minimum, this bit of reasoning suggests that it is as least as important to think about the form of the loss function $L(t, \\, f)$ as it is to think about the form of the model. If we have two models of equal functional flexibility then, *a priori*, for the same loss function the models will approximate the same quantity. "
   ]
  },
  {
   "cell_type": "code",
   "execution_count": 1,
   "metadata": {
    "id": "FA1Y5VCv20XZ"
   },
   "outputs": [],
   "source": [
    "import os, sys\n",
    "\n",
    "# the standard module for tabular data\n",
    "import pandas as pd\n",
    "\n",
    "# the standard module for array manipulation\n",
    "import numpy as np\n",
    "\n",
    "# the standard modules for high-quality plots\n",
    "import matplotlib as mp\n",
    "import matplotlib.pyplot as plt\n",
    "\n",
    "#  a function to save results\n",
    "import joblib as jb\n",
    "\n",
    "# pytorch\n",
    "import torch\n",
    "\n",
    "#  split data into a training set and a test set\n",
    "from sklearn.model_selection import train_test_split\n",
    "\n",
    "# to reload modules\n",
    "import importlib\n",
    "\n",
    "%matplotlib inline"
   ]
  },
  {
   "cell_type": "code",
   "execution_count": 2,
   "metadata": {},
   "outputs": [],
   "source": [
    "# update fonts\n",
    "FONTSIZE = 14\n",
    "font = {'family' : 'serif',\n",
    "        'weight' : 'normal',\n",
    "        'size'   : FONTSIZE}\n",
    "mp.rc('font', **font)\n",
    "\n",
    "# set a seed to ensure reproducibility\n",
    "seed = 128\n",
    "rnd  = np.random.RandomState(seed)"
   ]
  },
  {
   "cell_type": "markdown",
   "metadata": {},
   "source": [
    "### Load data"
   ]
  },
  {
   "cell_type": "code",
   "execution_count": 3,
   "metadata": {},
   "outputs": [
    {
     "data": {
      "text/html": [
       "<div>\n",
       "<style scoped>\n",
       "    .dataframe tbody tr th:only-of-type {\n",
       "        vertical-align: middle;\n",
       "    }\n",
       "\n",
       "    .dataframe tbody tr th {\n",
       "        vertical-align: top;\n",
       "    }\n",
       "\n",
       "    .dataframe thead th {\n",
       "        text-align: right;\n",
       "    }\n",
       "</style>\n",
       "<table border=\"1\" class=\"dataframe\">\n",
       "  <thead>\n",
       "    <tr style=\"text-align: right;\">\n",
       "      <th></th>\n",
       "      <th>target</th>\n",
       "      <th>x</th>\n",
       "      <th>y</th>\n",
       "    </tr>\n",
       "  </thead>\n",
       "  <tbody>\n",
       "    <tr>\n",
       "      <th>0</th>\n",
       "      <td>0.0</td>\n",
       "      <td>-1.528435</td>\n",
       "      <td>2.482336</td>\n",
       "    </tr>\n",
       "    <tr>\n",
       "      <th>1</th>\n",
       "      <td>1.0</td>\n",
       "      <td>-0.298034</td>\n",
       "      <td>0.350602</td>\n",
       "    </tr>\n",
       "    <tr>\n",
       "      <th>2</th>\n",
       "      <td>1.0</td>\n",
       "      <td>0.844025</td>\n",
       "      <td>0.138175</td>\n",
       "    </tr>\n",
       "    <tr>\n",
       "      <th>3</th>\n",
       "      <td>0.0</td>\n",
       "      <td>-1.280748</td>\n",
       "      <td>1.273752</td>\n",
       "    </tr>\n",
       "    <tr>\n",
       "      <th>4</th>\n",
       "      <td>0.0</td>\n",
       "      <td>0.519784</td>\n",
       "      <td>-1.486675</td>\n",
       "    </tr>\n",
       "    <tr>\n",
       "      <th>5</th>\n",
       "      <td>1.0</td>\n",
       "      <td>0.553385</td>\n",
       "      <td>1.235875</td>\n",
       "    </tr>\n",
       "    <tr>\n",
       "      <th>6</th>\n",
       "      <td>0.0</td>\n",
       "      <td>-0.015297</td>\n",
       "      <td>-1.244069</td>\n",
       "    </tr>\n",
       "    <tr>\n",
       "      <th>7</th>\n",
       "      <td>1.0</td>\n",
       "      <td>0.933215</td>\n",
       "      <td>0.806885</td>\n",
       "    </tr>\n",
       "    <tr>\n",
       "      <th>8</th>\n",
       "      <td>1.0</td>\n",
       "      <td>1.748572</td>\n",
       "      <td>0.978152</td>\n",
       "    </tr>\n",
       "    <tr>\n",
       "      <th>9</th>\n",
       "      <td>0.0</td>\n",
       "      <td>1.062602</td>\n",
       "      <td>-1.167001</td>\n",
       "    </tr>\n",
       "  </tbody>\n",
       "</table>\n",
       "</div>"
      ],
      "text/plain": [
       "   target         x         y\n",
       "0     0.0 -1.528435  2.482336\n",
       "1     1.0 -0.298034  0.350602\n",
       "2     1.0  0.844025  0.138175\n",
       "3     0.0 -1.280748  1.273752\n",
       "4     0.0  0.519784 -1.486675\n",
       "5     1.0  0.553385  1.235875\n",
       "6     0.0 -0.015297 -1.244069\n",
       "7     1.0  0.933215  0.806885\n",
       "8     1.0  1.748572  0.978152\n",
       "9     0.0  1.062602 -1.167001"
      ]
     },
     "execution_count": 3,
     "metadata": {},
     "output_type": "execute_result"
    }
   ],
   "source": [
    "data = jb.load('data.db')\n",
    "data[:10]"
   ]
  },
  {
   "cell_type": "markdown",
   "metadata": {},
   "source": [
    "### Train, validation, and test sets\n",
    "There is some confusion in terminology regarding validation and test samples (or sets). We shall adhere to the defintions given here https://machinelearningmastery.com/difference-test-validation-datasets/):\n",
    "   \n",
    "  * __Training Dataset__: The sample of data used to fit the model.\n",
    "  * __Validation Dataset__: The sample of data used to provide an unbiased evaluation of a model fit on the training dataset while tuning model hyperparameters. The evaluation becomes more biased as skill on the validation dataset is incorporated into the model configuration.\n",
    "  * __Test Dataset__: The sample of data used to provide an unbiased evaluation of a final model fit on the training dataset.\n",
    "\n",
    "The validation set will be some small fraction of the training set and will be used to decide when to stop the training."
   ]
  },
  {
   "cell_type": "code",
   "execution_count": 4,
   "metadata": {},
   "outputs": [
    {
     "name": "stdout",
     "output_type": "stream",
     "text": [
      "train set size:         35000\n",
      "validation set size:     5000\n",
      "test set size:          10000\n"
     ]
    }
   ],
   "source": [
    "fraction = 0.20\n",
    "train_data, test_data = train_test_split(data, test_size=fraction)\n",
    "\n",
    "fraction = 0.125\n",
    "train_data, valid_data = train_test_split(train_data, test_size=fraction)\n",
    "\n",
    "print('train set size:        %6d' % train_data.shape[0])\n",
    "print('validation set size:   %6d' % valid_data.shape[0])\n",
    "print('test set size:         %6d' % test_data.shape[0])"
   ]
  },
  {
   "cell_type": "markdown",
   "metadata": {},
   "source": [
    "Split data into targets $t$ and inputs $\\mathbf{x}$"
   ]
  },
  {
   "cell_type": "code",
   "execution_count": 5,
   "metadata": {},
   "outputs": [
    {
     "name": "stdout",
     "output_type": "stream",
     "text": [
      "[[ 1.8759602   1.6548501 ]\n",
      " [-0.5391906  -0.89200723]\n",
      " [ 0.43230608 -1.3800026 ]]\n",
      "\n",
      "[[ 0.7940733   1.4197329 ]\n",
      " [ 0.26457557 -1.9704969 ]\n",
      " [-0.20728141 -1.3524994 ]]\n",
      "\n",
      "[[-0.46819124 -1.0124339 ]\n",
      " [ 0.17062046  1.2169482 ]\n",
      " [ 2.65047    -1.8208842 ]]\n",
      "\n"
     ]
    }
   ],
   "source": [
    "def split_t_x(df, inputs=['x', 'y']):\n",
    "    # change from pandas dataframe format to a numpy \n",
    "    # array of the specified types\n",
    "    t = df['target'].to_numpy().astype(np.long)\n",
    "    x = df[inputs].to_numpy().astype(np.float32)\n",
    "    return (t, x)\n",
    "\n",
    "train_t, train_x = split_t_x(train_data)\n",
    "valid_t, valid_x = split_t_x(valid_data)\n",
    "test_t,  test_x  = split_t_x(test_data)\n",
    "\n",
    "print(train_x[:3], end='\\n\\n') \n",
    "print(valid_x[:3], end='\\n\\n')\n",
    "print(test_x[:3],  end='\\n\\n')"
   ]
  },
  {
   "cell_type": "markdown",
   "metadata": {},
   "source": [
    "### Some useful tensor operations"
   ]
  },
  {
   "cell_type": "code",
   "execution_count": 6,
   "metadata": {},
   "outputs": [
    {
     "name": "stdout",
     "output_type": "stream",
     "text": [
      "tensor([[1., 2.],\n",
      "        [3., 4.]])\n",
      "tensor([1, 0])\n",
      "tensor([[2.],\n",
      "        [3.]])\n",
      "tensor([2., 3.])\n"
     ]
    }
   ],
   "source": [
    "# create a float tensor\n",
    "a = torch.Tensor([[1,2], [3,4]])\n",
    "print(a)\n",
    "\n",
    "# create an integer tensor, which we'll use for gathering  \n",
    "# elements of the [2,2] tensor 'a' along its dim=1 \n",
    "# (that is, horizontal) dimension.\n",
    "i = torch.tensor([1,0])\n",
    "print(i)\n",
    "\n",
    "# note that since we're gathering along the dim=1 dimension\n",
    "# of 'a' the tensor 'i' must be of the same shape as 'a'\n",
    "# along other dimensions besides dim=1, that is, along dim=0.\n",
    "# by using view(-1,...) we make the dim=0 (vertical)\n",
    "# dimension of i be of the same length as the dim=0 \n",
    "# dimension of 'a'.\n",
    "b  = a.gather(dim=1, index=i.view(-1, 1))\n",
    "print(b)\n",
    "\n",
    "# now we get rid of extraneous dimensions.\n",
    "# compare tensors 'b' and 'c'. in 'b' there is only one \n",
    "# element per row along dim=1, so its shape is [2, 1]. \n",
    "# We are, therefore, free to squeeze away the dim=1 to\n",
    "# arrive at a new tensor 'c' with shape [2,]\n",
    "c = b.squeeze()\n",
    "print(c)"
   ]
  },
  {
   "cell_type": "markdown",
   "metadata": {},
   "source": [
    "### Return a (random) batch of data from the training set"
   ]
  },
  {
   "cell_type": "code",
   "execution_count": 7,
   "metadata": {},
   "outputs": [],
   "source": [
    "def get_batch(x, t, batch_size):\n",
    "    # the numpy function choice(length, number)\n",
    "    # selects at random \"number\" integers from the range [0, length-1]\n",
    "    rows    = rnd.choice(len(x), batch_size)\n",
    "    batch_x = x[rows]\n",
    "    batch_t = t[rows]\n",
    "    return (batch_x, batch_t)"
   ]
  },
  {
   "cell_type": "markdown",
   "metadata": {},
   "source": [
    "### Empirical risk (that is, average loss)\n",
    "\n",
    "The empirical risk, which is the __objective function__ we shall minimize, is defined as\n",
    "\n",
    "\\begin{align}\n",
    "R_M(\\theta) & = \\frac{1}{M}\\sum_{m=1}^M L(t_m, f_m),\n",
    "\\end{align}\n",
    "\n",
    "where \n",
    "\n",
    "\\begin{align}\n",
    "    f_m & \\equiv f(\\mathbf{x}_m, \\theta),\\\\ \\\\ \\textrm{and} \\\\\n",
    "    L(t, f) &= -\\ln[f^t \\, (1 - f)^{1 - t}], \\\\\n",
    "            &= \n",
    "\\begin{cases}\n",
    "    -\\ln f, & \\text{if } t == 1\\\\\n",
    "    -\\ln (1-f)             & \\text{otherwise}.\n",
    "\\end{cases}\n",
    "\\end{align}\n",
    "\n",
    "The empirical risk $R_M$ approximates the __risk__\n",
    "\n",
    "\\begin{align}\n",
    "R[f] & = \\int \\cdots \\int \\, p(t, \\mathbf{x}) \\, L(t, f(\\mathbf{x}, \\theta)) \\, dt \\, d\\mathbf{x},\n",
    "\\end{align}\n",
    "\n",
    "which is a __functional__ of the model $f$. The quantity $p(t, \\mathbf{x}) \\, dt\\, d\\mathbf{x}$ is the probability distribution from which the sample $\\{ (t_m, \\mathbf{x}_m), m = 1,\\cdots, M \\}$ is presumed to have been drawn. "
   ]
  },
  {
   "cell_type": "code",
   "execution_count": 8,
   "metadata": {},
   "outputs": [],
   "source": [
    "def average_loss(f, t):\n",
    "    losses =-torch.where(t > 0.5, torch.log(f), torch.log(1-f))   \n",
    "    return torch.mean(losses) "
   ]
  },
  {
   "cell_type": "markdown",
   "metadata": {},
   "source": [
    "### Define accuracy of model\n",
    "\n",
    "Let's define accuracy as the fraction of the sample that is correctly classified. Recall, that if we use either the __quadratic loss__ \n",
    "\n",
    "$$L(t, f) = (t - f)^2$$\n",
    "\n",
    "or the __cross entropy loss__\n",
    "\n",
    "$$L(t, f) =- [t \\, \\ln(f) + (1 - t) \\ln(1-f)],$$\n",
    "\n",
    "the model $f(\\mathbf{x}, \\theta)$ will approximate the mean of $p(t | \\mathbf{x})$, that is,\n",
    "\n",
    "$$f(\\mathbf{x}, \\theta^*) \\approx p(1 | \\mathbf{x}) \n",
    "= \\frac{p(\\mathbf{x} | 1) \\, p(1)}{p(\\mathbf{x} | 1) \\, p(1) + p(\\mathbf{x} | 0) \\, p(0)},$$\n",
    "\n",
    "provided that\n",
    "   1. We have a lot of training data (strictly, an infinite amount).\n",
    "   2. We have a sufficienty flexible model $\\forall \\, \\mathbf{x}$.\n",
    "   3. We have an effective optimizer so that we can find the best fit parameter point $\\theta^*$.\n",
    "   \n",
    "  \n",
    "If an object, characterized by $\\mathbf{x}$, yields $f(\\mathbf{x}, \\theta^*) \\approx p(1 | \\mathbf{x}) > 0.5$ we'll assign it to the class with $t = 1$, otherwise it is assigned to the class with $t = 0$."
   ]
  },
  {
   "cell_type": "code",
   "execution_count": 9,
   "metadata": {},
   "outputs": [],
   "source": [
    "def accuracy(f, t):\n",
    "    # Count how many times the predicted target matches \n",
    "    # the true target and convert to a fraction.\n",
    "    s = (f > 0.5).long()   # convert to long ints\n",
    "    a = (s == t).float()   # convert to floats\n",
    "    return float(torch.mean(a))"
   ]
  },
  {
   "cell_type": "markdown",
   "metadata": {},
   "source": [
    "### Function to execute training loop\n",
    "\n",
    "Note, here we use $t$ and $y$ interchangeably to denote the targets"
   ]
  },
  {
   "cell_type": "code",
   "execution_count": 10,
   "metadata": {},
   "outputs": [],
   "source": [
    "def train(model, optimizer, avloss, getbatch,\n",
    "          train_x, train_y, \n",
    "          valid_x, valid_y,\n",
    "          batch_size, \n",
    "          n_iterations, step=10):\n",
    "    \n",
    "    xx   = []\n",
    "    yy_t = []\n",
    "    yy_v = []\n",
    "    n    = 5000\n",
    "    \n",
    "    # set mode to training so that training specific operations such \n",
    "    # as dropout are enabled.\n",
    "    model.train()\n",
    "    \n",
    "    for ii in range(n_iterations):\n",
    "\n",
    "        # Get a random sample (a batch) of images (as numpy arrays)\n",
    "        batch_x, batch_y = getbatch(train_x, train_y, batch_size)\n",
    "        \n",
    "        # Convert the numpy arrays batch_x and batch_y, to tensor \n",
    "        # types. The PyTorch tensor type is the magic that permits \n",
    "        # automatic differentiation with respect to parameters. \n",
    "        # However, since we do not need to take the derivatives\n",
    "        # with respect to x and y, we disable this feature\n",
    "        with torch.no_grad(): # no need to compute gradients wrt. x and y\n",
    "            x = torch.from_numpy(batch_x)\n",
    "            y = torch.from_numpy(batch_y)      \n",
    "\n",
    "        # compute the output of the model for the batch of data x\n",
    "        outputs = model(x)\n",
    "        \n",
    "        # compute a noisy approximation to the average loss\n",
    "        empirical_risk = avloss(outputs, y)\n",
    "        \n",
    "        # use automatic differentiation to compute a \n",
    "        # noisy approximation of the local gradient\n",
    "        optimizer.zero_grad()       # clear previous gradients\n",
    "        empirical_risk.backward()   # compute gradients\n",
    "        \n",
    "        # Finally, advance one step in the direction of steepest \n",
    "        # descent, using the noisy local gradient. \n",
    "        optimizer.step()            # move one step\n",
    "        \n",
    "        if ii % step == 0:\n",
    "            acc_t = validate(model, train_x[:n], train_y[:n]) \n",
    "            acc_v = validate(model, valid_x[:n], valid_y[:n])\n",
    "            \n",
    "            print(\"\\r%10d\\t%10.4f\\t%10.4f\" % (ii, acc_t, acc_v), end='')\n",
    "        \n",
    "            xx.append(ii)\n",
    "            yy_t.append(acc_t)\n",
    "            yy_v.append(acc_v)\n",
    "            \n",
    "    return (xx, yy_t, yy_v)"
   ]
  },
  {
   "cell_type": "code",
   "execution_count": 11,
   "metadata": {},
   "outputs": [],
   "source": [
    "def validate(model, xx, yy):\n",
    "    # make sure we set evaluation mode so that training specific\n",
    "    # operations such as dropout are disabled.\n",
    "    model.eval() # evaluation mode\n",
    "    \n",
    "    with torch.no_grad(): # no need to compute gradients wrt. x and y\n",
    "        # compute accuracy using training sample\n",
    "        x = torch.from_numpy(xx)\n",
    "        y = torch.from_numpy(yy)\n",
    "        o = model(x)\n",
    "        acc = accuracy(o, y)\n",
    "    return acc"
   ]
  },
  {
   "cell_type": "code",
   "execution_count": 12,
   "metadata": {},
   "outputs": [],
   "source": [
    "def plot_accuracy(traces):\n",
    "    \n",
    "    xx, yy_t, yy_v = traces\n",
    "    \n",
    "    # create an empty figure\n",
    "    fig = plt.figure(figsize=(5, 5))\n",
    "    # add a subplot to it\n",
    "    nrows, ncols, index = 1,1,1\n",
    "    ax  = fig.add_subplot(nrows,ncols,index)\n",
    "    # adjust y limits\n",
    "    axes = ax.axes\n",
    "    axes.set_ylim((0, 1))\n",
    "    axes.set_xlim((0, xx[-1]))\n",
    "    \n",
    "    plt.plot(xx, yy_t, 'b', label='Training')\n",
    "    plt.plot(xx, yy_v, 'r', label='Validation')\n",
    "    plt.title('Training and Validation Errors')\n",
    "    plt.xlabel('Iterations', fontsize=16)\n",
    "    plt.ylabel('Accuracy', fontsize=16)\n",
    "    plt.grid(True, which=\"both\", linestyle='-')\n",
    "    plt.legend(loc='lower right')\n",
    "    plt.show()"
   ]
  },
  {
   "cell_type": "markdown",
   "metadata": {
    "id": "NJC916BU-9L6"
   },
   "source": [
    "### Define model $f(\\mathbf{x}, \\theta)$\n",
    "\n",
    "The output non-linearity is chosen to be a __sigmoid__ function:\n",
    "\n",
    "$$g(z) = \\frac{1}{1 + \\exp(-z)}.$$"
   ]
  },
  {
   "cell_type": "code",
   "execution_count": 19,
   "metadata": {
    "colab": {
     "base_uri": "https://localhost:8080/"
    },
    "id": "gRVXyg9A1zQh",
    "outputId": "aa498166-4008-461a-c82a-9eab5b49b083"
   },
   "outputs": [
    {
     "name": "stdout",
     "output_type": "stream",
     "text": [
      "Sequential(\n",
      "  (0): Linear(in_features=2, out_features=2, bias=True)\n",
      "  (1): ReLU()\n",
      "  (2): Linear(in_features=2, out_features=1, bias=True)\n",
      "  (3): Sigmoid()\n",
      ")\n"
     ]
    }
   ],
   "source": [
    "N_INPUTS  = 2       # number of inputs (x1, x2)\n",
    "N_NODES_0 = 2       # number of nodes in layer 0\n",
    "N_NODES_1 = 1       # number of nodes in layer 1 (output layer)     \n",
    "\n",
    "# Instead of create our own class, let's just use the Sequential class.\n",
    "# Try to guess what's going on here.\n",
    "model = torch.nn.Sequential(\n",
    "             torch.nn.Linear(N_INPUTS,  N_NODES_0),\n",
    "             torch.nn.ReLU(),\n",
    "             torch.nn.Linear(N_NODES_0, N_NODES_1),\n",
    "             torch.nn.Sigmoid()\n",
    "     )\n",
    "\n",
    "print (model)"
   ]
  },
  {
   "cell_type": "markdown",
   "metadata": {},
   "source": [
    "### Train!"
   ]
  },
  {
   "cell_type": "markdown",
   "metadata": {
    "id": "e8R55NgQL4EC"
   },
   "source": [
    "Instantiate an optimizer, then train"
   ]
  },
  {
   "cell_type": "code",
   "execution_count": 20,
   "metadata": {},
   "outputs": [
    {
     "name": "stdout",
     "output_type": "stream",
     "text": [
      "       199\t    0.5389\t    0.5383"
     ]
    }
   ],
   "source": [
    "n_batch = 10\n",
    "n_iterations = 200\n",
    "learning_rate = 0.003\n",
    "\n",
    "optimizer = torch.optim.Adam(model.parameters(), lr=learning_rate)\n",
    "\n",
    "traces = train(model, optimizer, \n",
    "               average_loss,\n",
    "               get_batch,\n",
    "               train_x, train_t, \n",
    "               valid_x, valid_t,\n",
    "               n_batch, \n",
    "               n_iterations,\n",
    "               step=1)"
   ]
  },
  {
   "cell_type": "code",
   "execution_count": 21,
   "metadata": {},
   "outputs": [
    {
     "data": {
      "image/png": "[encoded data removed]",
      "text/plain": [
       "<Figure size 360x360 with 1 Axes>"
      ]
     },
     "metadata": {
      "needs_background": "light"
     },
     "output_type": "display_data"
    }
   ],
   "source": [
    "plot_accuracy(traces)"
   ]
  },
  {
   "cell_type": "code",
   "execution_count": null,
   "metadata": {},
   "outputs": [],
   "source": []
  }
 ],
 "metadata": {
  "accelerator": "GPU",
  "colab": {
   "collapsed_sections": [],
   "name": "DRL_19_REINFORCE_Algorithm.ipynb",
   "provenance": []
  },
  "kernelspec": {
   "display_name": "Python 3",
   "language": "python",
   "name": "python3"
  },
  "language_info": {
   "codemirror_mode": {
    "name": "ipython",
    "version": 3
   },
   "file_extension": ".py",
   "mimetype": "text/x-python",
   "name": "python",
   "nbconvert_exporter": "python",
   "pygments_lexer": "ipython3",
   "version": "3.8.2"
  }
 },
 "nbformat": 4,
 "nbformat_minor": 1
}
