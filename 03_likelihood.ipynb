{
 "cells": [
  {
   "cell_type": "markdown",
   "metadata": {
    "id": "40Yb47zJQglm"
   },
   "source": [
    "# 03 Likelihood modeling with PyTorch \n",
    "## Introduction\n",
    "The fundamental assumption of statistics is that a data set $\\{ \\mathbf{x} \\}$ may be considered to be a random sample from a probability density function (pdf) $g(x)$ if $x$ is continuous or a probability mass function (pmf) if $x$ is discrete. In general, the form of $g(x)$ is unknown. We do not know, for example, the pmf from which all photographs of human faces on the web have been sampled, nor do we know the pmf of the COVID-19 data. In order to say anything useful about the function $g(x)$, which is presumed to exist (in the same sense that the set of real numbers exist), we devise a model of it $p(x, \\theta)$ with the hope that for some optimal choice of the parameters $\\theta$, say $\\theta^*$, the model will approximate the unknown function $g(x)$. \n",
    "\n",
    "The joint density $p(x, \\theta)$ is usually factored as follows: $p(x, \\theta) = p(x | \\theta) \\pi(\\theta)$, where $p(x | \\theta)$ is the conditional density of $x$ given $\\theta$ and $p(\\theta)$ is often called a *prior density*. When data $\\mathbf{x}$ are entered into the density $p(x | \\theta)$, the latter is referred to as the __likelihood function__. It would make sense to use a different symbol for the likelihood function; for example, some textbooks and papers use the symbol $L(\\theta) \\equiv p(\\mathbf{x} | \\theta)$. However, we prefer to use the same symbol for both the density and the likelihood in order to emphasize their close relationship. \n",
    "\n",
    "While there is disagreement about whether one should, or should not, use the prior $\\pi(\\theta)$ in making statistical inferences, everyone agrees that the likelihood function $p(x | \\theta)$ is the key ingredient and, ideally, ought to be used. In particular, the likelihood plays a central role in the frequentist and Bayesian approaches to statistical inference. Given their central role, a great deal of effort has been devoted to finding feasible ways of approximating likelihoods when their construction is intractable or cumbersome. \n",
    "\n",
    "In this exercise, we use an important result in machine learning to model a 2-parameter, 1D conditional probability density $p(x|\\theta = a, c)$ given a simulated data set. To do so, we take advantage of a result first obtained in the early 1990s in context of neural networks$^{1,2}$, but which is in fact independent of the underlying model used. If one fits a model, $f(\\mathbf{x}, \\omega)$ with parameters $\\omega$ to a balanced data set comprising two classes of data, one labeled with target $t = 1$ and the other labeled with target $t = 0$, and we use either the quadratic loss or the cross-entropy loss, then the optimized model, $f(\\mathbf{x}, \\omega^*)$, will approximate the function\n",
    "\n",
    "\\begin{align}\n",
    "    D(\\mathbf{x}) & = \\frac{p(\\mathbf{x}|1)}{p(\\mathbf{x}|1) + p(\\mathbf{x}|0)}.\n",
    "\\end{align}\n",
    "\n",
    "A balanced data set is one in which the number of events in each class is the same. The optimized model is found by minimizing an *objective function* called the __empirical risk__. See 01_classification.ipynb for details.\n",
    "\n",
    "In order to create a simulated data set that can be used to model conditional densities and, therefore, likelihoods, write $\\mathbf{x} = x, \\theta$. From the above result, it follows that\n",
    "\n",
    "\\begin{align}\n",
    "    \\frac{D_q(x, \\theta)}{1 - D_q(x, \\theta)} & = \\frac{p(x, \\theta|1)}{p(x, \\theta|0)}, \\\\\n",
    "                    & = \\frac{p(x, \\theta|1)}{q(x | \\theta) \\, p(\\theta|1)},\n",
    "\\end{align}\n",
    "\n",
    "where we have constructed the $t = 0$ data set so that its density $p(x, \\theta | 0) = q(x | \\theta) \\, p(\\theta|1)$ with the form of $q(x | \\theta)$ and the *marginal* density $p(\\theta | 1) = \\int p(x, \\theta| 1) \\, dx$ *chosen* by us. The function $D$ has been written as $D_q$ to emphasize the fact that $D$ depends on the form of $q(x | \\theta)$. Then, we can write\n",
    "\n",
    "\\begin{align}\n",
    "    p(x | \\theta, 1) & = \\frac{p(x, \\theta|1)}{p(\\theta|1)}, \\\\\n",
    "    & = q(x | \\theta) \\, C(x, \\theta),\\\\\n",
    "    \\textrm{where } \\, \\, C(x, \\theta) & = \\color{blue}{ \\frac{D_q(x, \\theta)}{1 - D_q(x, \\theta)}} .\n",
    "\\end{align}\n",
    "\n",
    "From this result we see that if $q(x | \\theta)$ is a tractable approximation to $p(x | \\theta, 0)$, then the factor $C(x, \\theta)$ is, ideally, a correction factor of order unity. However, the result also shows that we can also keep things simple and choose $q(x | \\theta)$ to be a uniform density in which case $C(x, \\theta)$ is directly proportional to conditional density $p(x | \\theta,  1)$.\n",
    "\n",
    "Note that the sampling over $\\theta$ in both the $t = 1$ and $t = 0$ samples is required to be the same because of the definition of conditional probability: $p(x | \\theta, 1) = p(x, \\theta|1) \\, / \\, p(\\theta|1)$.\n",
    "\n",
    "## Exercise\n",
    "\n",
    "The goal in this exercise is to model a 2-parameter likelihood function in which the parameter space is bounded. The algorithm for generating the data $\\{ (x_m, \\theta_m) \\}$ is given in 00_generate_data.ipynb. \n",
    "\n",
    "## References\n",
    "\n",
    "  1. E.A. Wan, *Neural network classification: a Bayesian interpretation*, IEEE Transactions on Neural Networks, Vol. 1, No. 4, pp 303-305 (1990); doi: 10.1109/72.80269.\n",
    "  1. M.D. Richard and R.P. Lippmann, *Neural Network Classifiers Estimate Bayesian a posteriori Probabilities*, Neural Computation, Vol. 3, No. 4, pp 461-483 (1991);\n",
    "doi: 10.1162/neco.1991.3.4.461."
   ]
  },
  {
   "cell_type": "markdown",
   "metadata": {
    "id": "tUcVLq_cTdMq"
   },
   "source": [
    "### Using Google Drive in Google Colab\n",
    "It is often convenient to have access to Google Drive when this notebook is run in Google Colab. In order to gain access to Google Drive from the notebook do the following:\n",
    "  1. Place this notebook in a folder on Google Drive. Click on the notebook and choose to open it with Google Colab.\n",
    "  1. Once the notebook is running in Google Colab, uncomment and execute the cell below and follow the authentication instructions.\n",
    "  1. To use hardware acceleration select the menu item Runtime/Change runtime type and select GPU."
   ]
  },
  {
   "cell_type": "code",
   "execution_count": 1,
   "metadata": {
    "colab": {
     "base_uri": "https://localhost:8080/"
    },
    "executionInfo": {
     "elapsed": 28479,
     "status": "ok",
     "timestamp": 1608769244282,
     "user": {
      "displayName": "Harrison Prosper",
      "photoUrl": "",
      "userId": "06677011918885244894"
     },
     "user_tz": 360
    },
    "id": "653bwEeXjVWb",
    "outputId": "bb49cb9c-57d9-4935-e330-e74599fd5dcb"
   },
   "outputs": [],
   "source": [
    "#from google.colab import drive \n",
    "#drive.mount('/content/gdrive') "
   ]
  },
  {
   "cell_type": "markdown",
   "metadata": {
    "id": "1XezhGNeg6Nb"
   },
   "source": [
    "Set BASE to My Drive folder, or to \"./\" if this notebook is running on your local machine."
   ]
  },
  {
   "cell_type": "code",
   "execution_count": 2,
   "metadata": {
    "executionInfo": {
     "elapsed": 362,
     "status": "ok",
     "timestamp": 1608769265742,
     "user": {
      "displayName": "Harrison Prosper",
      "photoUrl": "",
      "userId": "06677011918885244894"
     },
     "user_tz": 360
    },
    "id": "q6WLEwcLg4VH"
   },
   "outputs": [],
   "source": [
    "#BASE = '/content/gdrive/My Drive/colab_notebooks'\n",
    "BASE = './'"
   ]
  },
  {
   "cell_type": "markdown",
   "metadata": {
    "id": "KY4_vb5jhPs3"
   },
   "source": [
    "### Import standard Python modules"
   ]
  },
  {
   "cell_type": "code",
   "execution_count": 3,
   "metadata": {
    "executionInfo": {
     "elapsed": 4566,
     "status": "ok",
     "timestamp": 1608769273890,
     "user": {
      "displayName": "Harrison Prosper",
      "photoUrl": "",
      "userId": "06677011918885244894"
     },
     "user_tz": 360
    },
    "id": "FA1Y5VCv20XZ"
   },
   "outputs": [],
   "source": [
    "import os, sys\n",
    "\n",
    "# the standard module for tabular data\n",
    "import pandas as pd\n",
    "\n",
    "# the standard module for array manipulation\n",
    "import numpy as np\n",
    "\n",
    "# the standard modules for high-quality plots\n",
    "import matplotlib as mp\n",
    "import matplotlib.pyplot as plt\n",
    "\n",
    "#  a function to save results\n",
    "import joblib as jb\n",
    "\n",
    "# pytorch\n",
    "import torch\n",
    "\n",
    "# pytorch neural network module\n",
    "import torch.nn as nn\n",
    "\n",
    "import scipy.stats as st\n",
    "    \n",
    "#  split data into a training set and a test set\n",
    "from sklearn.model_selection import train_test_split\n",
    "from sklearn.metrics import roc_curve, auc\n",
    "\n",
    "# to reload modules\n",
    "import importlib\n",
    "\n",
    "%matplotlib inline"
   ]
  },
  {
   "cell_type": "code",
   "execution_count": 4,
   "metadata": {
    "executionInfo": {
     "elapsed": 327,
     "status": "ok",
     "timestamp": 1608769276182,
     "user": {
      "displayName": "Harrison Prosper",
      "photoUrl": "",
      "userId": "06677011918885244894"
     },
     "user_tz": 360
    },
    "id": "4272ozdmjObE"
   },
   "outputs": [],
   "source": [
    "# update fonts\n",
    "FONTSIZE = 12\n",
    "font = {'family' : 'serif',\n",
    "        'weight' : 'normal',\n",
    "        'size'   : FONTSIZE}\n",
    "mp.rc('font', **font)\n",
    "\n",
    "# set a seed to ensure reproducibility\n",
    "seed = 128\n",
    "rnd  = np.random.RandomState(seed)"
   ]
  },
  {
   "cell_type": "markdown",
   "metadata": {
    "id": "_nrBbNz6jObF"
   },
   "source": [
    "### Load data"
   ]
  },
  {
   "cell_type": "code",
   "execution_count": 5,
   "metadata": {
    "colab": {
     "base_uri": "https://localhost:8080/",
     "height": 206
    },
    "executionInfo": {
     "elapsed": 676,
     "status": "ok",
     "timestamp": 1608769278029,
     "user": {
      "displayName": "Harrison Prosper",
      "photoUrl": "",
      "userId": "06677011918885244894"
     },
     "user_tz": 360
    },
    "id": "sUx76I2rjObH",
    "outputId": "a4d9a6b6-c097-4ac4-8f0c-7874f34133ec"
   },
   "outputs": [
    {
     "data": {
      "text/html": [
       "<div>\n",
       "<style scoped>\n",
       "    .dataframe tbody tr th:only-of-type {\n",
       "        vertical-align: middle;\n",
       "    }\n",
       "\n",
       "    .dataframe tbody tr th {\n",
       "        vertical-align: top;\n",
       "    }\n",
       "\n",
       "    .dataframe thead th {\n",
       "        text-align: right;\n",
       "    }\n",
       "</style>\n",
       "<table border=\"1\" class=\"dataframe\">\n",
       "  <thead>\n",
       "    <tr style=\"text-align: right;\">\n",
       "      <th></th>\n",
       "      <th>target</th>\n",
       "      <th>x</th>\n",
       "      <th>a</th>\n",
       "      <th>c</th>\n",
       "    </tr>\n",
       "  </thead>\n",
       "  <tbody>\n",
       "    <tr>\n",
       "      <th>0</th>\n",
       "      <td>1.0</td>\n",
       "      <td>3.574634</td>\n",
       "      <td>3.762431</td>\n",
       "      <td>0.462442</td>\n",
       "    </tr>\n",
       "    <tr>\n",
       "      <th>1</th>\n",
       "      <td>0.0</td>\n",
       "      <td>7.389209</td>\n",
       "      <td>3.479121</td>\n",
       "      <td>4.761364</td>\n",
       "    </tr>\n",
       "    <tr>\n",
       "      <th>2</th>\n",
       "      <td>0.0</td>\n",
       "      <td>8.829333</td>\n",
       "      <td>0.221732</td>\n",
       "      <td>3.742985</td>\n",
       "    </tr>\n",
       "    <tr>\n",
       "      <th>3</th>\n",
       "      <td>1.0</td>\n",
       "      <td>1.229589</td>\n",
       "      <td>3.149552</td>\n",
       "      <td>4.996420</td>\n",
       "    </tr>\n",
       "    <tr>\n",
       "      <th>4</th>\n",
       "      <td>1.0</td>\n",
       "      <td>0.863867</td>\n",
       "      <td>1.068406</td>\n",
       "      <td>1.240500</td>\n",
       "    </tr>\n",
       "  </tbody>\n",
       "</table>\n",
       "</div>"
      ],
      "text/plain": [
       "   target         x         a         c\n",
       "0     1.0  3.574634  3.762431  0.462442\n",
       "1     0.0  7.389209  3.479121  4.761364\n",
       "2     0.0  8.829333  0.221732  3.742985\n",
       "3     1.0  1.229589  3.149552  4.996420\n",
       "4     1.0  0.863867  1.068406  1.240500"
      ]
     },
     "execution_count": 5,
     "metadata": {},
     "output_type": "execute_result"
    }
   ],
   "source": [
    "data = jb.load('%s/data_03.db' % BASE)\n",
    "data[:5]"
   ]
  },
  {
   "cell_type": "code",
   "execution_count": 6,
   "metadata": {
    "executionInfo": {
     "elapsed": 315,
     "status": "ok",
     "timestamp": 1608769278950,
     "user": {
      "displayName": "Harrison Prosper",
      "photoUrl": "",
      "userId": "06677011918885244894"
     },
     "user_tz": 360
    },
    "id": "rjC3gHY8jObL"
   },
   "outputs": [],
   "source": [
    "def plot_data(df, N=8000, nbins=50, limits=(0,5)):\n",
    "    \n",
    "    # divide data into \n",
    "    # those with target == 1 and \n",
    "    # those with target == 0.\n",
    "    sig = df[df.target > 0.5][:N]\n",
    "    bkg = df[df.target < 0.5][:N]\n",
    "    \n",
    "    # create an empty figure\n",
    "    fig = plt.figure(figsize=(5, 5))\n",
    "    fig.tight_layout()\n",
    "    \n",
    "    # add a subplot to it\n",
    "    nrows, ncols, index = 1,1,1\n",
    "    ax  = fig.add_subplot(nrows,ncols,index)\n",
    "    ax.set_xlabel('$x$', fontsize=FONTSIZE)\n",
    "    ax.set_ylabel('$y$', fontsize=FONTSIZE)\n",
    "    ax.set_xlim(limits)\n",
    "    \n",
    "    ax.hist(sig.x, bins=nbins, range=limits,\n",
    "            color='b', alpha=0.3, label='$t = 1$')\n",
    "    \n",
    "    ax.hist(bkg.x, bins=nbins, range=limits,\n",
    "            color='r', alpha=0.3, label='$t = 0$')\n",
    "    \n",
    "    ax.grid(True, which=\"both\", linestyle='-')  \n",
    "    ax.legend(loc='upper right')\n",
    "\n",
    "    plt.show()"
   ]
  },
  {
   "cell_type": "code",
   "execution_count": 7,
   "metadata": {
    "colab": {
     "base_uri": "https://localhost:8080/",
     "height": 340
    },
    "executionInfo": {
     "elapsed": 799,
     "status": "ok",
     "timestamp": 1608769280106,
     "user": {
      "displayName": "Harrison Prosper",
      "photoUrl": "",
      "userId": "06677011918885244894"
     },
     "user_tz": 360
    },
    "id": "Uy8bOWxDjObM",
    "outputId": "ff54e11f-d345-4429-bd82-490b08d13966"
   },
   "outputs": [
    {
     "data": {
      "image/png": "[encoded data removed]",
      "text/plain": [
       "<Figure size 360x360 with 1 Axes>"
      ]
     },
     "metadata": {
      "needs_background": "light"
     },
     "output_type": "display_data"
    }
   ],
   "source": [
    "plot_data(data)"
   ]
  },
  {
   "cell_type": "markdown",
   "metadata": {
    "id": "OUtxvyjPjObN"
   },
   "source": [
    "### Train, validation, and test sets\n",
    "There is some confusion in terminology regarding validation and test samples (or sets). We shall adhere to the defintions given here https://machinelearningmastery.com/difference-test-validation-datasets/):\n",
    "   \n",
    "  * __Training Dataset__: The sample of data used to fit the model.\n",
    "  * __Validation Dataset__: The sample of data used to decide 1) whether the fit is reasonable (e.g., the model has not been overfitted), 2) decide which of several models is the best and 3) tune model hyperparameters.\n",
    "  * __Test Dataset__: The sample of data used to provide an unbiased evaluation of a final model fit on the training dataset.\n",
    "\n",
    "The validation set will be some small fraction of the training set and will be used to decide when to stop the training."
   ]
  },
  {
   "cell_type": "code",
   "execution_count": 8,
   "metadata": {
    "colab": {
     "base_uri": "https://localhost:8080/"
    },
    "executionInfo": {
     "elapsed": 293,
     "status": "ok",
     "timestamp": 1608769281142,
     "user": {
      "displayName": "Harrison Prosper",
      "photoUrl": "",
      "userId": "06677011918885244894"
     },
     "user_tz": 360
    },
    "id": "ZmMkT0Z2jObP",
    "outputId": "8a5cbe7e-29c2-4063-eb08-7597483940bc"
   },
   "outputs": [
    {
     "name": "stdout",
     "output_type": "stream",
     "text": [
      "train set size:         90000\n",
      "validation set size:     5000\n",
      "test set size:           5000\n"
     ]
    }
   ],
   "source": [
    "# Fraction of the data assigned as test data\n",
    "fraction = 0.05\n",
    "# Split data into a part for training and a part for testing\n",
    "train_data, test_data = train_test_split(data, test_size=fraction)\n",
    "\n",
    "# Split the training data into a part for training (fitting) and\n",
    "# a part for validating the training.\n",
    "fraction = 5/95\n",
    "train_data, valid_data = train_test_split(train_data, test_size=fraction)\n",
    "\n",
    "print('train set size:        %6d' % train_data.shape[0])\n",
    "print('validation set size:   %6d' % valid_data.shape[0])\n",
    "print('test set size:         %6d' % test_data.shape[0])"
   ]
  },
  {
   "cell_type": "markdown",
   "metadata": {
    "id": "yosvaco7jObS"
   },
   "source": [
    "Split data into targets $t$ and inputs $\\mathbf{x}$"
   ]
  },
  {
   "cell_type": "code",
   "execution_count": 9,
   "metadata": {
    "executionInfo": {
     "elapsed": 306,
     "status": "ok",
     "timestamp": 1608769290020,
     "user": {
      "displayName": "Harrison Prosper",
      "photoUrl": "",
      "userId": "06677011918885244894"
     },
     "user_tz": 360
    },
    "id": "56pqQUR5jObU"
   },
   "outputs": [],
   "source": [
    "def split_t_x(df, inputs=['x', 'a', 'c']):\n",
    "    # change from pandas dataframe format to a numpy \n",
    "    # array of the specified types\n",
    "    t = np.array(df['target']).astype(np.long)\n",
    "    x = np.array(df[inputs]).astype(np.float32)\n",
    "    return (t, x)\n",
    "\n",
    "train_t, train_x = split_t_x(train_data)\n",
    "valid_t, valid_x = split_t_x(valid_data)\n",
    "test_t,  test_x  = split_t_x(test_data)"
   ]
  },
  {
   "cell_type": "code",
   "execution_count": 10,
   "metadata": {
    "colab": {
     "base_uri": "https://localhost:8080/"
    },
    "executionInfo": {
     "elapsed": 358,
     "status": "ok",
     "timestamp": 1608769295241,
     "user": {
      "displayName": "Harrison Prosper",
      "photoUrl": "",
      "userId": "06677011918885244894"
     },
     "user_tz": 360
    },
    "id": "n7dRcJcFm2yi",
    "outputId": "c078ea63-375a-484e-9734-246114b9840e"
   },
   "outputs": [
    {
     "name": "stdout",
     "output_type": "stream",
     "text": [
      "cpu\n"
     ]
    }
   ],
   "source": [
    "device  = torch.device(\"cuda\" if torch.cuda.is_available() else \"cpu\")\n",
    "print(device)"
   ]
  },
  {
   "cell_type": "markdown",
   "metadata": {
    "id": "el-H06mIjObW"
   },
   "source": [
    "### Return a (random) batch of data from the training set"
   ]
  },
  {
   "cell_type": "code",
   "execution_count": 11,
   "metadata": {
    "executionInfo": {
     "elapsed": 267,
     "status": "ok",
     "timestamp": 1608769297414,
     "user": {
      "displayName": "Harrison Prosper",
      "photoUrl": "",
      "userId": "06677011918885244894"
     },
     "user_tz": 360
    },
    "id": "npAfHC14jObX"
   },
   "outputs": [],
   "source": [
    "def get_batch(x, t, batch_size):\n",
    "    # the numpy function choice(length, number)\n",
    "    # selects at random \"batch_size\" integers from \n",
    "    # the range [0, length-1] corresponding to the\n",
    "    # row indices.\n",
    "    rows    = rnd.choice(len(x), batch_size)\n",
    "    batch_x = x[rows]\n",
    "    batch_t = t[rows]\n",
    "    return (batch_x, batch_t)"
   ]
  },
  {
   "cell_type": "markdown",
   "metadata": {
    "id": "xnrhgPFzjObZ"
   },
   "source": [
    "### Empirical risk (that is, average loss)\n",
    "\n",
    "The empirical risk, which is the __objective function__ we shall minimize, is defined as\n",
    "\n",
    "\\begin{align}\n",
    "R_M(\\omega) & = \\frac{1}{M}\\sum_{m=1}^M L(t_m, f_m),\n",
    "\\end{align}\n",
    "\n",
    "where \n",
    "\n",
    "\\begin{align}\n",
    "    f_m & \\equiv f(\\mathbf{x}_m, \\omega),\\\\ \\textrm{and} & \\\\\n",
    "    L(t, f) &= (f - t)^2 .\n",
    "\\end{align}\n",
    "\n",
    "The empirical risk $R_M$ approximates the __risk__\n",
    "\n",
    "\\begin{align}\n",
    "R[f] & = \\int \\cdots \\int \\, p(t, \\mathbf{x}) \\, L(t, f(\\mathbf{x}, \\theta)) \\, dt \\, d\\mathbf{x},\n",
    "\\end{align}\n",
    "\n",
    "which is a __functional__ of the model $f$. The quantity $p(t, \\mathbf{x}) \\, dt\\, d\\mathbf{x}$ is the probability distribution from which the sample $\\{ (t_m, \\mathbf{x}_m), m = 1,\\cdots, M \\}$ is presumed to have been drawn. "
   ]
  },
  {
   "cell_type": "code",
   "execution_count": 12,
   "metadata": {
    "executionInfo": {
     "elapsed": 269,
     "status": "ok",
     "timestamp": 1608769298964,
     "user": {
      "displayName": "Harrison Prosper",
      "photoUrl": "",
      "userId": "06677011918885244894"
     },
     "user_tz": 360
    },
    "id": "t1HdC8r6jOba"
   },
   "outputs": [],
   "source": [
    "def average_loss(f, t):\n",
    "    # note: f and t must be of the same shape. \n",
    "    losses = (f - t)**2\n",
    "    return torch.mean(losses) "
   ]
  },
  {
   "cell_type": "markdown",
   "metadata": {
    "id": "VYDJ-HHEjObb"
   },
   "source": [
    "### Define accuracy of model\n",
    "\n",
    "Let's define accuracy as the fraction of the sample that is correctly classified. Recall, that if we use either the __quadratic loss__ \n",
    "\n",
    "$$L(t, f) = (t - f)^2$$\n",
    "\n",
    "or the __cross entropy loss__\n",
    "\n",
    "$$L(t, f) =- [t \\, \\ln(f) + (1 - t) \\ln(1-f)],$$\n",
    "\n",
    "the model $f(\\mathbf{x}, \\omega)$ will approximate,\n",
    "\n",
    "$$f(\\mathbf{x}, \\omega^*) \\approx p(1 | \\mathbf{x}) \n",
    "= \\frac{p(\\mathbf{x} | 1) \\, p(1)}{p(\\mathbf{x} | 1) \\, p(1) + p(\\mathbf{x} | 0) \\, p(0)},$$\n",
    "\n",
    "provided that\n",
    "   1. We have a lot of training data (strictly, an infinite amount).\n",
    "   2. We have a sufficienty flexible model $\\forall \\, \\mathbf{x}$.\n",
    "   3. We have an effective optimizer so that we can find the best fit parameter point $\\theta^*$."
   ]
  },
  {
   "cell_type": "markdown",
   "metadata": {
    "id": "_PccSdmejObb"
   },
   "source": [
    "### Function to execute training loop\n",
    "\n",
    "Note, here we use $t$ and $y$ interchangeably to denote the targets"
   ]
  },
  {
   "cell_type": "code",
   "execution_count": 13,
   "metadata": {
    "executionInfo": {
     "elapsed": 319,
     "status": "ok",
     "timestamp": 1608769300970,
     "user": {
      "displayName": "Harrison Prosper",
      "photoUrl": "",
      "userId": "06677011918885244894"
     },
     "user_tz": 360
    },
    "id": "pf83gj_rjObc"
   },
   "outputs": [],
   "source": [
    "def train(model, optimizer, avloss, getbatch,\n",
    "          train_x, train_t, \n",
    "          valid_x, valid_t,\n",
    "          batch_size, \n",
    "          n_iterations, step=10):\n",
    "    \n",
    "    xx   = []\n",
    "    yy_t = []\n",
    "    yy_v = []\n",
    "    \n",
    "    n = len(valid_x)\n",
    "\n",
    "    print('Average loss')\n",
    "    print(\"%10s\\t%10s\\t%10s\" % \\\n",
    "          ('iteration', 'train-set', 'valid-set'))\n",
    "    \n",
    "    for ii in range(n_iterations):\n",
    "        # set mode to training so that training specific operations such \n",
    "        # as dropout are enabled.\n",
    "        model.train()\n",
    "           \n",
    "        # Get a random sample (a batch) of images (as numpy arrays)\n",
    "        batch_x, batch_t = getbatch(train_x, train_t, batch_size)\n",
    "        \n",
    "        # Convert the numpy arrays batch_x and batch_t, to tensor \n",
    "        # types. The PyTorch tensor type is the magic that permits \n",
    "        # automatic differentiation with respect to parameters. \n",
    "        # However, since we do not need to take the derivatives\n",
    "        # with respect to x and t, we disable this feature\n",
    "        with torch.no_grad(): \n",
    "            x = torch.from_numpy(batch_x).to(device)\n",
    "            t = torch.from_numpy(batch_t).to(device)     \n",
    "\n",
    "        # compute the output of the model for the batch of data x\n",
    "        # make sure shape of outputs is the same as shape of targets, t\n",
    "        outputs = model(x).reshape(t.shape)\n",
    "        \n",
    "        # compute a noisy approximation to the average loss\n",
    "        empirical_risk = avloss(outputs, t)\n",
    "        \n",
    "        # use automatic differentiation to compute a \n",
    "        # noisy approximation of the local gradient\n",
    "        optimizer.zero_grad()       # clear previous gradients\n",
    "        empirical_risk.backward()   # compute gradients\n",
    "        \n",
    "        # Finally, advance one step in the direction of steepest \n",
    "        # descent, using the noisy local gradient. \n",
    "        optimizer.step()            # move a single step\n",
    "        \n",
    "        if ii % step == 0:\n",
    "            # compute a validation measure using the model \n",
    "            # given its current parameters.\n",
    "            acc_v = validate(model, valid_x, valid_t)\n",
    "            acc_t = validate(model, train_x[:n], train_t[:n]) \n",
    "            \n",
    "            # print on same line\n",
    "            print(\"\\r%10d\\t%10.4f\\t%10.4f\" % (ii, acc_t, acc_v), end='')\n",
    "        \n",
    "            xx.append(ii)\n",
    "            yy_t.append(acc_t)\n",
    "            yy_v.append(acc_v)\n",
    "            \n",
    "    return (xx, yy_t, yy_v)"
   ]
  },
  {
   "cell_type": "code",
   "execution_count": 14,
   "metadata": {
    "executionInfo": {
     "elapsed": 290,
     "status": "ok",
     "timestamp": 1608769304269,
     "user": {
      "displayName": "Harrison Prosper",
      "photoUrl": "",
      "userId": "06677011918885244894"
     },
     "user_tz": 360
    },
    "id": "K4S96Zp5jObc"
   },
   "outputs": [],
   "source": [
    "def validate(model, inputs, targets):\n",
    "    # make sure we set evaluation mode so that training specific\n",
    "    # operations such as dropout are disabled.\n",
    "    model.eval() # evaluation mode\n",
    "    \n",
    "    with torch.no_grad(): # no need to compute gradients wrt. x and y\n",
    "        x = torch.from_numpy(inputs).to(device)\n",
    "        t = torch.from_numpy(targets).to(device)\n",
    "        # remember to reshape\n",
    "        p = model(x).reshape(t.shape)  # predict probabilities p(1|x)\n",
    "    return average_loss(p, t)"
   ]
  },
  {
   "cell_type": "code",
   "execution_count": 15,
   "metadata": {
    "executionInfo": {
     "elapsed": 259,
     "status": "ok",
     "timestamp": 1608769305333,
     "user": {
      "displayName": "Harrison Prosper",
      "photoUrl": "",
      "userId": "06677011918885244894"
     },
     "user_tz": 360
    },
    "id": "VNDShiuLjObc"
   },
   "outputs": [],
   "source": [
    "def plot_average_loss(traces):\n",
    "    \n",
    "    xx, yy_t, yy_v = traces\n",
    "    \n",
    "    # create an empty figure\n",
    "    fig = plt.figure(figsize=(8, 5))\n",
    "    fig.tight_layout()\n",
    "    \n",
    "    # add a subplot to it\n",
    "    nrows, ncols, index = 1,1,1\n",
    "    ax  = fig.add_subplot(nrows,ncols,index)\n",
    "\n",
    "    ax.set_title(\"Average loss\", fontsize=FONTSIZE)\n",
    "    \n",
    "    ax.plot(xx, yy_t, 'b', lw=2, label='Training')\n",
    "    ax.plot(xx, yy_v, 'r', lw=2, label='Validation')\n",
    "\n",
    "    ax.set_xlabel('Iterations', fontsize=FONTSIZE)\n",
    "    ax.set_ylabel('average loss', fontsize=FONTSIZE)\n",
    "    ax.set_xscale('log')\n",
    "    ax.set_yscale('log')\n",
    "    ax.grid(True, which=\"both\", linestyle='-')\n",
    "    ax.legend(loc='upper right')\n",
    "\n",
    "    plt.show()"
   ]
  },
  {
   "cell_type": "markdown",
   "metadata": {
    "id": "NJC916BU-9L6"
   },
   "source": [
    "### Define model \n",
    "\n",
    "$$f(\\mathbf{x}, \\omega) = \\mbox{sigmoid}(b_2 + \\mathbf{w}_2 \\,\\mbox{relu}(\\,\\mathbf{b}_1 + \\mathbf{w}_1 \\, \\mbox{relu}(\\mathbf{b}_0 + \\mathbf{w}_0 \\, \\mathbf{x}) \\, ) \\,).$$\n",
    "\n",
    "Note that the value of this model is a scalar, therefore, $b_2$ in this exercise is a scalar $b_2$. "
   ]
  },
  {
   "cell_type": "code",
   "execution_count": 16,
   "metadata": {
    "colab": {
     "base_uri": "https://localhost:8080/"
    },
    "executionInfo": {
     "elapsed": 261,
     "status": "ok",
     "timestamp": 1608769324167,
     "user": {
      "displayName": "Harrison Prosper",
      "photoUrl": "",
      "userId": "06677011918885244894"
     },
     "user_tz": 360
    },
    "id": "gRVXyg9A1zQh",
    "outputId": "7bc2ac8c-16d8-437e-804c-54550e8ad326"
   },
   "outputs": [
    {
     "name": "stdout",
     "output_type": "stream",
     "text": [
      "Sequential(\n",
      "  (0): Linear(in_features=3, out_features=700, bias=True)\n",
      "  (1): ReLU()\n",
      "  (2): Linear(in_features=700, out_features=600, bias=True)\n",
      "  (3): ReLU()\n",
      "  (4): Linear(in_features=600, out_features=1, bias=True)\n",
      "  (5): Sigmoid()\n",
      ")\n"
     ]
    }
   ],
   "source": [
    "# Instead of creating our own class, let's just use the \n",
    "# Sequential class since it is sufficient for our simple model.\n",
    "# Try to guess what's going on here.\n",
    "model = nn.Sequential(nn.Linear(  3, 700),  nn.ReLU(),\n",
    "                      nn.Linear(700, 600),  nn.ReLU(),\n",
    "                      nn.Linear(600,   1),  nn.Sigmoid()).to(device)\n",
    "\n",
    "print (model)"
   ]
  },
  {
   "cell_type": "markdown",
   "metadata": {
    "id": "Pv5dE8xzjObe"
   },
   "source": [
    "### Train!"
   ]
  },
  {
   "cell_type": "markdown",
   "metadata": {
    "id": "e8R55NgQL4EC"
   },
   "source": [
    "Instantiate an optimizer, then train\n",
    "\n",
    "Recall, that every step in the iteration is given by\n",
    "\n",
    "$$\\theta_\\mbox{new} = \\theta_\\mbox{current} - \\eta \\, \\nabla R_M,$$\n",
    "\n",
    "where $\\eta$ is called the *learning rate*. We start with a relatively large value of $\\eta$ and we gradually decrease it. Why?\n",
    "\n",
    "#### Specify a path\n",
    "PATH = \"entire_model.pt\"\n",
    "#### Save\n",
    "torch.save(net, PATH)\n",
    "#### Load\n",
    "model = torch.load(PATH)\n",
    "\n",
    "model.eval()"
   ]
  },
  {
   "cell_type": "code",
   "execution_count": 21,
   "metadata": {
    "colab": {
     "base_uri": "https://localhost:8080/"
    },
    "executionInfo": {
     "elapsed": 269802,
     "status": "ok",
     "timestamp": 1608771199134,
     "user": {
      "displayName": "Harrison Prosper",
      "photoUrl": "",
      "userId": "06677011918885244894"
     },
     "user_tz": 360
    },
    "id": "YJ3kpzqmjObh",
    "outputId": "5351e4ed-a074-4d76-d944-1752e3b8d292"
   },
   "outputs": [
    {
     "name": "stdout",
     "output_type": "stream",
     "text": [
      "Average loss\n",
      " iteration\t train-set\t valid-set\n",
      "   1000000\t    0.0829\t    0.0854"
     ]
    }
   ],
   "source": [
    "n_batch      = 100\n",
    "n_iterations = 1000001\n",
    "\n",
    "optimizer    = torch.optim.SGD(model.parameters(), \n",
    "                               lr=8.e-4,\n",
    "                               momentum=0.5,\n",
    "                               weight_decay=1.e-6)\n",
    "\n",
    "traces = train(model.to(device), optimizer, average_loss, get_batch,\n",
    "               train_x, train_t, valid_x, valid_t,\n",
    "               n_batch, n_iterations, step=1000)\n",
    "\n",
    "torch.save(model, '%s/03_likelihood.pth' % BASE)"
   ]
  },
  {
   "cell_type": "code",
   "execution_count": 24,
   "metadata": {
    "executionInfo": {
     "elapsed": 308,
     "status": "ok",
     "timestamp": 1608771378774,
     "user": {
      "displayName": "Harrison Prosper",
      "photoUrl": "",
      "userId": "06677011918885244894"
     },
     "user_tz": 360
    },
    "id": "k_k9Np-1jObk"
   },
   "outputs": [],
   "source": [
    "def plot_average_loss(traces):\n",
    "    \n",
    "    xx, yy_t, yy_v = traces\n",
    "    \n",
    "    # create an empty figure\n",
    "    fig = plt.figure(figsize=(8, 5))\n",
    "    # add a subplot to it\n",
    "    nrows, ncols, index = 1,1,1\n",
    "    ax  = fig.add_subplot(nrows,ncols,index)\n",
    "    ax.set_xlim((0, xx[-1]))\n",
    "    #ax.set_xscale('log')\n",
    "    ax.set_yscale('log')\n",
    "    \n",
    "    plt.plot(xx, yy_t, 'b', label='Training')\n",
    "    plt.plot(xx, yy_v, 'r', label='Validation')\n",
    "    plt.xlabel('Iterations', fontsize=16)\n",
    "    plt.ylabel('Accuracy', fontsize=16)\n",
    "    plt.grid(True, which=\"both\", linestyle='-')\n",
    "    plt.legend(loc='upper right')\n",
    "    plt.savefig('%s/03_average_loss.png')\n",
    "    plt.show()"
   ]
  },
  {
   "cell_type": "code",
   "execution_count": 17,
   "metadata": {
    "colab": {
     "base_uri": "https://localhost:8080/",
     "height": 664
    },
    "executionInfo": {
     "elapsed": 702,
     "status": "error",
     "timestamp": 1608771381422,
     "user": {
      "displayName": "Harrison Prosper",
      "photoUrl": "",
      "userId": "06677011918885244894"
     },
     "user_tz": 360
    },
    "id": "g7dGj4sHjObk",
    "outputId": "0fc24382-5f4f-4718-96ba-92f431e4b427"
   },
   "outputs": [],
   "source": [
    "plot_average_loss(traces)"
   ]
  },
  {
   "cell_type": "markdown",
   "metadata": {
    "id": "xltq_1BUjObk"
   },
   "source": [
    "### Plot distribution"
   ]
  },
  {
   "cell_type": "code",
   "execution_count": 26,
   "metadata": {
    "executionInfo": {
     "elapsed": 347,
     "status": "ok",
     "timestamp": 1608771395239,
     "user": {
      "displayName": "Harrison Prosper",
      "photoUrl": "",
      "userId": "06677011918885244894"
     },
     "user_tz": 360
    },
    "id": "Ai_GfDNRjObl"
   },
   "outputs": [],
   "source": [
    "def plot_distributions(p, t):\n",
    "    ps = p[t > 0.5] # probabilities for class with t == 1\n",
    "    pb = p[t < 0.5] # probabilities for class with t == 0\n",
    "    \n",
    "    # create an empty figure\n",
    "    fig = plt.figure(figsize=(5, 5))\n",
    "    fig.tight_layout()\n",
    "    \n",
    "    # add a subplot to it\n",
    "    nrows, ncols, index = 1,1,1\n",
    "    ax  = fig.add_subplot(nrows,ncols,index)\n",
    "    ax.set_xlim(0, 1)\n",
    "\n",
    "    ax.hist(ps, bins=50, color='b',\n",
    "            histtype='stepfilled',\n",
    "            alpha=0.3, label='$t = 1$')\n",
    "    \n",
    "    ax.hist(pb, bins=50, color='r',\n",
    "            histtype='stepfilled',\n",
    "            alpha=0.3, label='$t = 0$')\n",
    "    \n",
    "    ax.set_xlabel('$p(1|x)$', fontsize=FONTSIZE)\n",
    "    ax.legend(loc='upper right')\n",
    "\n",
    "    plt.show()"
   ]
  },
  {
   "cell_type": "markdown",
   "metadata": {
    "id": "2uFn2_X4jObm"
   },
   "source": [
    "### Compute $p(1 | x)$"
   ]
  },
  {
   "cell_type": "code",
   "execution_count": 27,
   "metadata": {
    "executionInfo": {
     "elapsed": 324,
     "status": "ok",
     "timestamp": 1608771398305,
     "user": {
      "displayName": "Harrison Prosper",
      "photoUrl": "",
      "userId": "06677011918885244894"
     },
     "user_tz": 360
    },
    "id": "0xbQEjZGjObm"
   },
   "outputs": [],
   "source": [
    "def compute_prob(model, xx):\n",
    "    # convert from numpy array to a torch tensor of type float\n",
    "    x = torch.from_numpy(xx).float().to(device)\n",
    "\n",
    "    # compute p(1|x)\n",
    "    model.eval() # evaluation mode\n",
    "    p = model(x).to(device)\n",
    "\n",
    "    # squeeze() removes extraneous dimensions\n",
    "    p = p.squeeze()\n",
    "\n",
    "    # detach().numpy() converts back to a numpy array\n",
    "    p = p.detach().cpu().numpy()\n",
    "    return p"
   ]
  },
  {
   "cell_type": "code",
   "execution_count": 28,
   "metadata": {
    "colab": {
     "base_uri": "https://localhost:8080/",
     "height": 344
    },
    "executionInfo": {
     "elapsed": 314,
     "status": "ok",
     "timestamp": 1608771399455,
     "user": {
      "displayName": "Harrison Prosper",
      "photoUrl": "",
      "userId": "06677011918885244894"
     },
     "user_tz": 360
    },
    "id": "_p7Moku1jObn",
    "outputId": "9b251039-b87a-4a04-9ce3-00e810a50c42"
   },
   "outputs": [
    {
     "data": {
      "image/png": "[encoded data removed]",
      "text/plain": [
       "<Figure size 360x360 with 1 Axes>"
      ]
     },
     "metadata": {
      "needs_background": "light",
      "tags": []
     },
     "output_type": "display_data"
    }
   ],
   "source": [
    "p = compute_prob(model, test_x)\n",
    "plot_distributions(p, test_t)"
   ]
  },
  {
   "cell_type": "markdown",
   "metadata": {
    "id": "lwAfP9hxjObp"
   },
   "source": [
    "### Plot Receiver Operating Characteristic (ROC) curve"
   ]
  },
  {
   "cell_type": "code",
   "execution_count": 29,
   "metadata": {
    "executionInfo": {
     "elapsed": 342,
     "status": "ok",
     "timestamp": 1608771408124,
     "user": {
      "displayName": "Harrison Prosper",
      "photoUrl": "",
      "userId": "06677011918885244894"
     },
     "user_tz": 360
    },
    "id": "sGfb9uB4jObp"
   },
   "outputs": [],
   "source": [
    "def plot_roc_curve(p, t):\n",
    "    bad, good, _ = roc_curve(t, p)\n",
    "    roc_auc = auc(bad, good)\n",
    "\n",
    "    fig = plt.figure(figsize=(5, 5))\n",
    "    fig.tight_layout()\n",
    "    ax  = fig.add_subplot(1,1,1)\n",
    "    \n",
    "    ax.plot(bad, good, color='red',\n",
    "            lw=1, label='ROC curve, AUC = %0.2f)' % roc_auc)\n",
    "    \n",
    "    ax.plot([0, 1], [0, 1], color='blue', lw=1, linestyle='--')\n",
    "    \n",
    "    ax.set_xlim([0.0, 1.0])\n",
    "    ax.set_ylim([0.0, 1.0])\n",
    "    ax.set_xlabel(r'fraction$(t=0)$', fontsize=18)\n",
    "    ax.set_ylabel(r'fraction$(t=1)$', fontsize=18)\n",
    "    ax.legend(loc=\"lower right\", fontsize=14)\n",
    "    \n",
    "    plt.savefig('03_likelihood_roc.png')\n",
    "    plt.show()"
   ]
  },
  {
   "cell_type": "code",
   "execution_count": 30,
   "metadata": {
    "colab": {
     "base_uri": "https://localhost:8080/",
     "height": 352
    },
    "executionInfo": {
     "elapsed": 474,
     "status": "ok",
     "timestamp": 1608771412693,
     "user": {
      "displayName": "Harrison Prosper",
      "photoUrl": "",
      "userId": "06677011918885244894"
     },
     "user_tz": 360
    },
    "id": "HIy6sOucjObq",
    "outputId": "50ed24c9-4dbe-416b-89ba-fc8e7e6311e4"
   },
   "outputs": [
    {
     "data": {
      "image/png": "[encoded data removed]",
      "text/plain": [
       "<Figure size 360x360 with 1 Axes>"
      ]
     },
     "metadata": {
      "needs_background": "light",
      "tags": []
     },
     "output_type": "display_data"
    }
   ],
   "source": [
    "plot_roc_curve(p, test_t)"
   ]
  },
  {
   "cell_type": "markdown",
   "metadata": {
    "id": "0JPv2aAEjObr"
   },
   "source": [
    "### Plot approximate likelihood $p(x | \\theta, 1)$"
   ]
  },
  {
   "cell_type": "code",
   "execution_count": 31,
   "metadata": {
    "executionInfo": {
     "elapsed": 347,
     "status": "ok",
     "timestamp": 1608771425144,
     "user": {
      "displayName": "Harrison Prosper",
      "photoUrl": "",
      "userId": "06677011918885244894"
     },
     "user_tz": 360
    },
    "id": "oKtn5GvajObr"
   },
   "outputs": [],
   "source": [
    "def likelihood(x, a, c, model):\n",
    "    X = np.array([(z, a, c) for z in x])\n",
    "    D = model(torch.tensor(X).float()).squeeze().detach().numpy()\n",
    "    p = D / (1-D)\n",
    "    p /= p.max()\n",
    "    return p"
   ]
  },
  {
   "cell_type": "code",
   "execution_count": 32,
   "metadata": {
    "executionInfo": {
     "elapsed": 324,
     "status": "ok",
     "timestamp": 1608771427455,
     "user": {
      "displayName": "Harrison Prosper",
      "photoUrl": "",
      "userId": "06677011918885244894"
     },
     "user_tz": 360
    },
    "id": "cI0_ybDnjObr"
   },
   "outputs": [],
   "source": [
    "def plot_gengamma(a, c, model, xmin=0, xmax=10, xstep=0.01):\n",
    "    import matplotlib.gridspec as gridspec\n",
    "    xmax  =  xmax - xstep\n",
    "    nmax  = len(a)\n",
    "    ncols = 4\n",
    "    nrows = int(nmax/ncols) + (1 if nmax % ncols > 0 else 0)\n",
    "\n",
    "    x  = np.arange(xmin, xmax+xstep, xstep)\n",
    "    kolor = ['black', 'gray', 'red', 'orange', 'gold', 'brown', \n",
    "             'darkgreen', 'green', 'blue', 'indigo', 'violet']\n",
    "\n",
    "    font = {'family' : 'sans serif',\n",
    "        'weight' : 'normal',\n",
    "        'size'   : 12}\n",
    "    mp.rc('font', **font)\n",
    "\n",
    "    # create an empty figure\n",
    "    fig = plt.figure(figsize=(3*ncols, 2*nrows))\n",
    "\n",
    "    gs = gridspec.GridSpec(nrows, ncols)\n",
    "    gs.update(wspace=0.025, hspace=0.05) # set the spacing between axes. \n",
    "\n",
    "    i = -1\n",
    "    for ii, ai, ci in zip(range(nmax), a, c):\n",
    "        i += 1\n",
    "        if i >= len(kolor):\n",
    "            i = 0\n",
    "\n",
    "        ax = plt.subplot(gs[ii])\n",
    "        ax.set_xlim([xmin, xmax])\n",
    "        ax.set_ylim([0.0, 1.2])\n",
    "        ax.grid(True, which=\"both\", linestyle='-')\n",
    "        ax.tick_params(direction='in')\n",
    "\n",
    "        index = ii+1\n",
    "        first_column = index % ncols == 1\n",
    "        row   = int(ii / ncols)\n",
    "        last_row = row == nrows-1\n",
    "\n",
    "        if last_row:\n",
    "          ax.set_xlabel('$x$')\n",
    "        else:\n",
    "          ax.set_xticklabels([])\n",
    "\n",
    "        if first_column:\n",
    "          ax.set_ylabel('$p(x|a, c)$')\n",
    "        else:\n",
    "          ax.set_yticklabels([])\n",
    "\n",
    "        y = st.gengamma.pdf(x, ai, ci)\n",
    "        y = y / y.max()\n",
    "        ax.plot(x, y, color=kolor[i], label='exact')\n",
    "        \n",
    "        p = likelihood(x, ai, ci, model)\n",
    "        ax.plot(x, p, color=kolor[i], linestyle='-.', label='model')\n",
    "        ax.legend(loc='upper right', fontsize=10)\n",
    "\n",
    "        ax.text(4.1, 0.55, '$a = %4.1f$' % ai)\n",
    "        ax.text(4.1, 0.35, '$c = %4.1f$' % ci)\n",
    "\n",
    "    #fig.tight_layout()\n",
    "    plt.savefig('%s/03_likelihood.png' % BASE)\n",
    "    plt.show()"
   ]
  },
  {
   "cell_type": "code",
   "execution_count": 33,
   "metadata": {
    "colab": {
     "base_uri": "https://localhost:8080/",
     "height": 537
    },
    "executionInfo": {
     "elapsed": 3123,
     "status": "ok",
     "timestamp": 1608771434044,
     "user": {
      "displayName": "Harrison Prosper",
      "photoUrl": "",
      "userId": "06677011918885244894"
     },
     "user_tz": 360
    },
    "id": "ser8OjjSjObs",
    "outputId": "088a2f1f-2ca8-4082-9847-a2f5dfa77753"
   },
   "outputs": [
    {
     "name": "stderr",
     "output_type": "stream",
     "text": [
      "/usr/local/lib/python3.6/dist-packages/ipykernel_launcher.py:51: RuntimeWarning: invalid value encountered in true_divide\n"
     ]
    },
    {
     "data": {
      "image/png": "[encoded data removed]",
      "text/plain": [
       "<Figure size 864x576 with 16 Axes>"
      ]
     },
     "metadata": {
      "needs_background": "light",
      "tags": []
     },
     "output_type": "display_data"
    }
   ],
   "source": [
    "mp.rc('text', usetex=False)\n",
    "N = 16\n",
    "a = rnd.uniform(0.5, 4.0, N)\n",
    "c = rnd.uniform(0.5, 4.0, N)\n",
    "plot_gengamma(a, c, model.to('cpu'))"
   ]
  },
  {
   "cell_type": "code",
   "execution_count": null,
   "metadata": {
    "id": "97zFM2gMjObs"
   },
   "outputs": [],
   "source": []
  }
 ],
 "metadata": {
  "accelerator": "GPU",
  "colab": {
   "collapsed_sections": [],
   "name": "03_likelihood.ipynb",
   "provenance": []
  },
  "kernelspec": {
   "display_name": "Python 3",
   "language": "python",
   "name": "python3"
  },
  "language_info": {
   "codemirror_mode": {
    "name": "ipython",
    "version": 3
   },
   "file_extension": ".py",
   "mimetype": "text/x-python",
   "name": "python",
   "nbconvert_exporter": "python",
   "pygments_lexer": "ipython3",
   "version": "3.8.2"
  }
 },
 "nbformat": 4,
 "nbformat_minor": 1
}
